{
 "cells": [
  {
   "cell_type": "code",
   "execution_count": 1,
   "id": "74e411d7",
   "metadata": {
    "_cell_guid": "b1076dfc-b9ad-4769-8c92-a6c4dae69d19",
    "_uuid": "8f2839f25d086af736a60e9eeb907d3b93b6e0e5",
    "execution": {
     "iopub.execute_input": "2025-08-03T07:46:12.251384Z",
     "iopub.status.busy": "2025-08-03T07:46:12.251075Z",
     "iopub.status.idle": "2025-08-03T07:46:14.084093Z",
     "shell.execute_reply": "2025-08-03T07:46:14.083329Z"
    },
    "papermill": {
     "duration": 1.848463,
     "end_time": "2025-08-03T07:46:14.085521",
     "exception": false,
     "start_time": "2025-08-03T07:46:12.237058",
     "status": "completed"
    },
    "tags": []
   },
   "outputs": [
    {
     "name": "stdout",
     "output_type": "stream",
     "text": [
      "kaggle/input/moritzlaurerdeberta-v3-base-mnli-fever-anli/transformers\n",
      "kaggle/input/facebookai-roberta-large-mnli/transformers\n",
      "kaggle/input/pm-87757141-at-08-03-2025-07-45-10/__script__.py\n",
      "kaggle/input/pm-87757141-at-08-03-2025-07-45-10/charset_normalizer-3.4.2-cp311-cp311-manylinux_2_17_x86_64.manylinux2014_x86_64.whl\n",
      "kaggle/input/pm-87757141-at-08-03-2025-07-45-10/filelock-3.18.0-py3-none-any.whl\n",
      "kaggle/input/pm-87757141-at-08-03-2025-07-45-10/aiohttp-3.12.15-cp311-cp311-manylinux_2_17_x86_64.manylinux2014_x86_64.whl\n",
      "kaggle/input/pm-87757141-at-08-03-2025-07-45-10/huggingface_hub-0.34.3-py3-none-any.whl\n",
      "kaggle/input/pm-87757141-at-08-03-2025-07-45-10/evaluate-0.4.5-py3-none-any.whl\n",
      "kaggle/input/pm-87757141-at-08-03-2025-07-45-10/requests-2.32.4-py3-none-any.whl\n",
      "kaggle/input/pm-87757141-at-08-03-2025-07-45-10/tqdm-4.67.1-py3-none-any.whl\n",
      "kaggle/input/pm-87757141-at-08-03-2025-07-45-10/hf_xet-1.1.5-cp37-abi3-manylinux_2_17_x86_64.manylinux2014_x86_64.whl\n",
      "kaggle/input/pm-87757141-at-08-03-2025-07-45-10/__results__.html\n",
      "kaggle/input/pm-87757141-at-08-03-2025-07-45-10/multiprocess-0.70.16-py311-none-any.whl\n",
      "kaggle/input/pm-87757141-at-08-03-2025-07-45-10/fsspec-2025.3.0-py3-none-any.whl\n",
      "kaggle/input/pm-87757141-at-08-03-2025-07-45-10/PyYAML-6.0.2-cp311-cp311-manylinux_2_17_x86_64.manylinux2014_x86_64.whl\n",
      "kaggle/input/pm-87757141-at-08-03-2025-07-45-10/pytz-2025.2-py2.py3-none-any.whl\n",
      "kaggle/input/pm-87757141-at-08-03-2025-07-45-10/markdown2-2.5.4-py3-none-any.whl\n",
      "kaggle/input/pm-87757141-at-08-03-2025-07-45-10/idna-3.10-py3-none-any.whl\n",
      "kaggle/input/pm-87757141-at-08-03-2025-07-45-10/urllib3-2.5.0-py3-none-any.whl\n",
      "kaggle/input/pm-87757141-at-08-03-2025-07-45-10/aiohappyeyeballs-2.6.1-py3-none-any.whl\n",
      "kaggle/input/pm-87757141-at-08-03-2025-07-45-10/input_requirements.txt\n",
      "kaggle/input/pm-87757141-at-08-03-2025-07-45-10/typing_extensions-4.14.1-py3-none-any.whl\n",
      "kaggle/input/pm-87757141-at-08-03-2025-07-45-10/aiosignal-1.4.0-py3-none-any.whl\n",
      "kaggle/input/pm-87757141-at-08-03-2025-07-45-10/six-1.17.0-py2.py3-none-any.whl\n",
      "kaggle/input/pm-87757141-at-08-03-2025-07-45-10/numpy-2.3.2-cp311-cp311-manylinux_2_27_x86_64.manylinux_2_28_x86_64.whl\n",
      "kaggle/input/pm-87757141-at-08-03-2025-07-45-10/scipy-1.16.1-cp311-cp311-manylinux2014_x86_64.manylinux_2_17_x86_64.whl\n",
      "kaggle/input/pm-87757141-at-08-03-2025-07-45-10/yarl-1.20.1-cp311-cp311-manylinux_2_17_x86_64.manylinux2014_x86_64.whl\n",
      "kaggle/input/pm-87757141-at-08-03-2025-07-45-10/datasets-4.0.0-py3-none-any.whl\n",
      "kaggle/input/pm-87757141-at-08-03-2025-07-45-10/pandas-2.3.1-cp311-cp311-manylinux_2_17_x86_64.manylinux2014_x86_64.whl\n",
      "kaggle/input/pm-87757141-at-08-03-2025-07-45-10/python_dateutil-2.9.0.post0-py2.py3-none-any.whl\n",
      "kaggle/input/pm-87757141-at-08-03-2025-07-45-10/attrs-25.3.0-py3-none-any.whl\n",
      "kaggle/input/pm-87757141-at-08-03-2025-07-45-10/__script__.ipynb\n",
      "kaggle/input/pm-87757141-at-08-03-2025-07-45-10/xxhash-3.5.0-cp311-cp311-manylinux_2_17_x86_64.manylinux2014_x86_64.whl\n",
      "kaggle/input/pm-87757141-at-08-03-2025-07-45-10/packaging-25.0-py3-none-any.whl\n",
      "kaggle/input/pm-87757141-at-08-03-2025-07-45-10/__output__.json\n",
      "kaggle/input/pm-87757141-at-08-03-2025-07-45-10/Unidecode-1.4.0-py3-none-any.whl\n",
      "kaggle/input/pm-87757141-at-08-03-2025-07-45-10/multidict-6.6.3-cp311-cp311-manylinux2014_x86_64.manylinux_2_17_x86_64.manylinux_2_28_x86_64.whl\n",
      "kaggle/input/pm-87757141-at-08-03-2025-07-45-10/dill-0.3.8-py3-none-any.whl\n",
      "kaggle/input/pm-87757141-at-08-03-2025-07-45-10/pyarrow-21.0.0-cp311-cp311-manylinux_2_28_x86_64.whl\n",
      "kaggle/input/pm-87757141-at-08-03-2025-07-45-10/install_requirements.sh\n",
      "kaggle/input/pm-87757141-at-08-03-2025-07-45-10/certifi-2025.8.3-py3-none-any.whl\n",
      "kaggle/input/pm-87757141-at-08-03-2025-07-45-10/tzdata-2025.2-py2.py3-none-any.whl\n",
      "kaggle/input/pm-87757141-at-08-03-2025-07-45-10/propcache-0.3.2-cp311-cp311-manylinux_2_17_x86_64.manylinux2014_x86_64.whl\n",
      "kaggle/input/pm-87757141-at-08-03-2025-07-45-10/frozenlist-1.7.0-cp311-cp311-manylinux_2_5_x86_64.manylinux1_x86_64.manylinux_2_17_x86_64.manylinux2014_x86_64.whl\n",
      "kaggle/input/pm-87757141-at-08-03-2025-07-45-10/custom.css\n",
      "kaggle/input/jigsaw-agile-community-rules/sample_submission.csv\n",
      "kaggle/input/jigsaw-agile-community-rules/train.csv\n",
      "kaggle/input/jigsaw-agile-community-rules/test.csv\n",
      "kaggle/input/jigsaw/subreddits.csv\n",
      "kaggle/input/jigsaw/features.csv\n",
      "kaggle/input/distilbertdistilbert-base-uncased/transformers\n",
      "kaggle/input/distilbertdistilbert-base-uncased-finetuned/transformers\n"
     ]
    }
   ],
   "source": [
    "# This Python 3 environment comes with many helpful analytics libraries installed\n",
    "# It is defined by the kaggle/python Docker image: https://github.com/kaggle/docker-python\n",
    "# For example, here's several helpful packages to load\n",
    "\n",
    "import numpy as np # linear algebra\n",
    "import pandas as pd # data processing, CSV file I/O (e.g. pd.read_csv)\n",
    "\n",
    "# Input data files are available in the read-only \"../input/\" directory\n",
    "# For example, running this (by clicking run or pressing Shift+Enter) will list all files under the input directory\n",
    "\n",
    "import os\n",
    "for dirname in os.listdir('/kaggle/input'):\n",
    "    for filename in os.listdir(os.path.join(\"/kaggle/input\", dirname)):\n",
    "        print(os.path.join(\"kaggle\", \"input\", dirname, filename))\n",
    "\n",
    "# You can write up to 20GB to the current directory (/kaggle/working/) that gets preserved as output when you create a version using \"Save & Run All\" \n",
    "# You can also write temporary files to /kaggle/temp/, but they won't be saved outside of the current session"
   ]
  },
  {
   "cell_type": "markdown",
   "id": "0765dd16",
   "metadata": {
    "papermill": {
     "duration": 0.007142,
     "end_time": "2025-08-03T07:46:14.100812",
     "exception": false,
     "start_time": "2025-08-03T07:46:14.093670",
     "status": "completed"
    },
    "tags": []
   },
   "source": [
    "# imports"
   ]
  },
  {
   "cell_type": "code",
   "execution_count": 2,
   "id": "fb2f2d50",
   "metadata": {
    "execution": {
     "iopub.execute_input": "2025-08-03T07:46:14.116074Z",
     "iopub.status.busy": "2025-08-03T07:46:14.115772Z",
     "iopub.status.idle": "2025-08-03T07:46:17.286598Z",
     "shell.execute_reply": "2025-08-03T07:46:17.285881Z"
    },
    "papermill": {
     "duration": 3.179835,
     "end_time": "2025-08-03T07:46:17.287861",
     "exception": false,
     "start_time": "2025-08-03T07:46:14.108026",
     "status": "completed"
    },
    "tags": []
   },
   "outputs": [
    {
     "data": {
      "text/html": [
       "<button onClick=\"this.nextSibling.style.display='block';this.style.display='none';\">Display W&B run</button><iframe src='https://wandb.ai/dummy/dummy/runs/41330pw4?jupyter=true' style='border:none;width:100%;height:420px;display:none;'></iframe>"
      ],
      "text/plain": [
       "<wandb.sdk.wandb_run.Run at 0x7eec7e9ceb10>"
      ]
     },
     "execution_count": 2,
     "metadata": {},
     "output_type": "execute_result"
    }
   ],
   "source": [
    "import wandb\n",
    "wandb.init(mode=\"disabled\")"
   ]
  },
  {
   "cell_type": "code",
   "execution_count": 3,
   "id": "baafaf68",
   "metadata": {
    "execution": {
     "iopub.execute_input": "2025-08-03T07:46:17.307702Z",
     "iopub.status.busy": "2025-08-03T07:46:17.307473Z",
     "iopub.status.idle": "2025-08-03T07:47:00.095243Z",
     "shell.execute_reply": "2025-08-03T07:47:00.094480Z"
    },
    "papermill": {
     "duration": 42.799195,
     "end_time": "2025-08-03T07:47:00.096707",
     "exception": false,
     "start_time": "2025-08-03T07:46:17.297512",
     "status": "completed"
    },
    "tags": []
   },
   "outputs": [
    {
     "name": "stderr",
     "output_type": "stream",
     "text": [
      "2025-08-03 07:46:34.534646: E external/local_xla/xla/stream_executor/cuda/cuda_fft.cc:477] Unable to register cuFFT factory: Attempting to register factory for plugin cuFFT when one has already been registered\n",
      "WARNING: All log messages before absl::InitializeLog() is called are written to STDERR\n",
      "E0000 00:00:1754207194.916324      26 cuda_dnn.cc:8310] Unable to register cuDNN factory: Attempting to register factory for plugin cuDNN when one has already been registered\n",
      "E0000 00:00:1754207195.029097      26 cuda_blas.cc:1418] Unable to register cuBLAS factory: Attempting to register factory for plugin cuBLAS when one has already been registered\n"
     ]
    }
   ],
   "source": [
    "import heapq\n",
    "import json\n",
    "import logging\n",
    "import os\n",
    "import re\n",
    "import sys\n",
    "from datetime import datetime\n",
    "from functools import partial\n",
    "from pathlib import Path\n",
    "from typing import Any, Callable, Dict, List, Mapping, Optional, Tuple, Union\n",
    "import warnings\n",
    "\n",
    "import markdown2\n",
    "import numpy as np\n",
    "import pandas as pd\n",
    "import torch\n",
    "import torch.nn.functional as F\n",
    "from bs4 import BeautifulSoup\n",
    "from datasets import ClassLabel, Dataset, DatasetDict, concatenate_datasets\n",
    "from scipy.special import softmax\n",
    "from sklearn.feature_extraction.text import TfidfVectorizer\n",
    "from sklearn.metrics import roc_auc_score\n",
    "from sklearn.metrics.pairwise import cosine_similarity\n",
    "from sklearn.model_selection import train_test_split\n",
    "from torchinfo import summary\n",
    "from transformers import (\n",
    "    AutoModelForCausalLM,\n",
    "    AutoModelForSequenceClassification,\n",
    "    AutoTokenizer,\n",
    "    DataCollatorWithPadding,\n",
    "    Trainer,\n",
    "    TrainerCallback,\n",
    "    TrainingArguments,\n",
    "    pipeline,\n",
    "    EarlyStoppingCallback\n",
    ")\n",
    "from unidecode import unidecode"
   ]
  },
  {
   "cell_type": "code",
   "execution_count": 4,
   "id": "deaef4a1",
   "metadata": {
    "execution": {
     "iopub.execute_input": "2025-08-03T07:47:00.113200Z",
     "iopub.status.busy": "2025-08-03T07:47:00.112635Z",
     "iopub.status.idle": "2025-08-03T07:47:00.116328Z",
     "shell.execute_reply": "2025-08-03T07:47:00.115670Z"
    },
    "papermill": {
     "duration": 0.012795,
     "end_time": "2025-08-03T07:47:00.117476",
     "exception": false,
     "start_time": "2025-08-03T07:47:00.104681",
     "status": "completed"
    },
    "tags": []
   },
   "outputs": [],
   "source": [
    "os.environ[\"WANDB_DISABLED\"] = \"true\"\n",
    "warnings.simplefilter(\"ignore\")"
   ]
  },
  {
   "cell_type": "markdown",
   "id": "55912137",
   "metadata": {
    "papermill": {
     "duration": 0.007285,
     "end_time": "2025-08-03T07:47:00.132169",
     "exception": false,
     "start_time": "2025-08-03T07:47:00.124884",
     "status": "completed"
    },
    "tags": []
   },
   "source": [
    "# load dataset"
   ]
  },
  {
   "cell_type": "code",
   "execution_count": 5,
   "id": "02415e13",
   "metadata": {
    "execution": {
     "iopub.execute_input": "2025-08-03T07:47:00.147649Z",
     "iopub.status.busy": "2025-08-03T07:47:00.147147Z",
     "iopub.status.idle": "2025-08-03T07:47:00.244544Z",
     "shell.execute_reply": "2025-08-03T07:47:00.244002Z"
    },
    "papermill": {
     "duration": 0.10635,
     "end_time": "2025-08-03T07:47:00.245704",
     "exception": false,
     "start_time": "2025-08-03T07:47:00.139354",
     "status": "completed"
    },
    "tags": []
   },
   "outputs": [],
   "source": [
    "INPUT_PATH = os.path.join(\"/\", \"kaggle\", \"input\")\n",
    "train = pd.read_csv(os.path.join(INPUT_PATH, \"jigsaw-agile-community-rules\", \"train.csv\"))\n",
    "test = pd.read_csv(os.path.join(INPUT_PATH, \"jigsaw-agile-community-rules\", \"test.csv\"))\n",
    "submission = pd.read_csv(os.path.join(INPUT_PATH, \"jigsaw-agile-community-rules\", \"sample_submission.csv\"))\n",
    "features = pd.read_csv(os.path.join(INPUT_PATH, \"jigsaw\", \"features.csv\"))[\"features\"].tolist()\n",
    "subreddits = pd.read_csv(os.path.join(INPUT_PATH, \"jigsaw\", \"subreddits.csv\"))[\"subreddit\"].tolist()"
   ]
  },
  {
   "cell_type": "code",
   "execution_count": 6,
   "id": "3d32a6f5",
   "metadata": {
    "execution": {
     "iopub.execute_input": "2025-08-03T07:47:00.261618Z",
     "iopub.status.busy": "2025-08-03T07:47:00.261400Z",
     "iopub.status.idle": "2025-08-03T07:47:00.272514Z",
     "shell.execute_reply": "2025-08-03T07:47:00.271952Z"
    },
    "papermill": {
     "duration": 0.02009,
     "end_time": "2025-08-03T07:47:00.273521",
     "exception": false,
     "start_time": "2025-08-03T07:47:00.253431",
     "status": "completed"
    },
    "tags": []
   },
   "outputs": [],
   "source": [
    "test = test.sample(n=min(len(test), 5000), replace=False, random_state=42, ignore_index=True)"
   ]
  },
  {
   "cell_type": "markdown",
   "id": "f8f8d7ce",
   "metadata": {
    "papermill": {
     "duration": 0.007229,
     "end_time": "2025-08-03T07:47:00.288238",
     "exception": false,
     "start_time": "2025-08-03T07:47:00.281009",
     "status": "completed"
    },
    "tags": []
   },
   "source": [
    "# util funcs"
   ]
  },
  {
   "cell_type": "code",
   "execution_count": 7,
   "id": "8749be17",
   "metadata": {
    "execution": {
     "iopub.execute_input": "2025-08-03T07:47:00.305201Z",
     "iopub.status.busy": "2025-08-03T07:47:00.304641Z",
     "iopub.status.idle": "2025-08-03T07:47:01.189112Z",
     "shell.execute_reply": "2025-08-03T07:47:01.188247Z"
    },
    "jupyter": {
     "source_hidden": true
    },
    "papermill": {
     "duration": 0.893814,
     "end_time": "2025-08-03T07:47:01.190438",
     "exception": false,
     "start_time": "2025-08-03T07:47:00.296624",
     "status": "completed"
    },
    "tags": []
   },
   "outputs": [
    {
     "name": "stdout",
     "output_type": "stream",
     "text": [
      "RAM freed: 0.00 MB (1423.72 -> 1423.72)\n",
      "GPU allocated freed: 0.00 MB (0.00 -> 0.00)\n",
      "GPU reserved freed: 0.00 MB (0.00 -> 0.00)\n"
     ]
    }
   ],
   "source": [
    "def clean_mem():\n",
    "    import sys\n",
    "    import gc\n",
    "    import traceback\n",
    "    import torch\n",
    "    import psutil\n",
    "    import os\n",
    "    import time\n",
    "\n",
    "    process = psutil.Process(os.getpid())\n",
    "\n",
    "    # Measure RAM before cleanup\n",
    "    ram_before = process.memory_info().rss / (1024**2)  # in MB\n",
    "\n",
    "    # Measure GPU before cleanup\n",
    "    if torch.cuda.is_available():\n",
    "        gpu_alloc_before = torch.cuda.memory_allocated() / (1024**2)  # in MB\n",
    "        gpu_reserved_before = torch.cuda.memory_reserved() / (1024**2)  # in MB\n",
    "    else:\n",
    "        gpu_alloc_before = gpu_reserved_before = 0\n",
    "\n",
    "    # clean all traceback\n",
    "    if hasattr(sys, \"last_traceback\"):\n",
    "        traceback.clear_frames(sys.last_traceback)\n",
    "        delattr(sys, \"last_traceback\")\n",
    "    if hasattr(sys, \"last_type\"):\n",
    "        delattr(sys, \"last_type\")\n",
    "    if hasattr(sys, \"last_value\"):\n",
    "        delattr(sys, \"last_value\")\n",
    "\n",
    "    # clean all ipython history\n",
    "    if \"get_ipython\" in globals():\n",
    "        ip = get_ipython()\n",
    "        user_ns = ip.user_ns\n",
    "        ip.displayhook.flush()\n",
    "        pc = ip.displayhook.prompt_count + 1\n",
    "        for n in range(1, pc):\n",
    "            user_ns.pop(\"_i\" + repr(n), None)\n",
    "        user_ns.update(dict(_i=\"\", _ii=\"\", _iii=\"\"))\n",
    "        hm = ip.history_manager\n",
    "        hm.input_hist_parsed[:] = [\"\"] * pc\n",
    "        hm.input_hist_raw[:] = [\"\"] * pc\n",
    "        hm._i = hm._ii = hm._iii = hm._i00 = \"\"\n",
    "\n",
    "    # do a garbage collection and flush cuda cache\n",
    "    gc.collect()\n",
    "    torch.cuda.empty_cache()\n",
    "\n",
    "    # Give system a small moment to settle (helps RAM measurement be more accurate)\n",
    "    time.sleep(0.1)\n",
    "\n",
    "    # Measure RAM after cleanup\n",
    "    ram_after = process.memory_info().rss / (1024**2)  # in MB\n",
    "\n",
    "    # Measure GPU after cleanup\n",
    "    if torch.cuda.is_available():\n",
    "        gpu_alloc_after = torch.cuda.memory_allocated() / (1024**2)  # in MB\n",
    "        gpu_reserved_after = torch.cuda.memory_reserved() / (1024**2)  # in MB\n",
    "    else:\n",
    "        gpu_alloc_after = gpu_reserved_after = 0\n",
    "\n",
    "    # Report freed memory\n",
    "    print(\n",
    "        f\"RAM freed: {ram_before - ram_after:.2f} MB ({ram_before:.2f} -> {ram_after:.2f})\"\n",
    "    )\n",
    "    if torch.cuda.is_available():\n",
    "        print(\n",
    "            f\"GPU allocated freed: {gpu_alloc_before - gpu_alloc_after:.2f} MB ({gpu_alloc_before:.2f} -> {gpu_alloc_after:.2f})\"\n",
    "        )\n",
    "        print(\n",
    "            f\"GPU reserved freed: {gpu_reserved_before - gpu_reserved_after:.2f} MB ({gpu_reserved_before:.2f} -> {gpu_reserved_after:.2f})\"\n",
    "        )\n",
    "    else:\n",
    "        print(\"No GPU detected.\")\n",
    "\n",
    "\n",
    "clean_mem()"
   ]
  },
  {
   "cell_type": "code",
   "execution_count": 8,
   "id": "2e94b3ea",
   "metadata": {
    "execution": {
     "iopub.execute_input": "2025-08-03T07:47:01.207377Z",
     "iopub.status.busy": "2025-08-03T07:47:01.207150Z",
     "iopub.status.idle": "2025-08-03T07:47:01.221825Z",
     "shell.execute_reply": "2025-08-03T07:47:01.221298Z"
    },
    "jupyter": {
     "source_hidden": true
    },
    "papermill": {
     "duration": 0.024445,
     "end_time": "2025-08-03T07:47:01.222891",
     "exception": false,
     "start_time": "2025-08-03T07:47:01.198446",
     "status": "completed"
    },
    "tags": []
   },
   "outputs": [],
   "source": [
    "def create_logger(\n",
    "    name: str = \"reddit_moderation\",\n",
    "    log_level: str = \"INFO\",\n",
    "    log_file: Optional[Union[str, Path]] = None,\n",
    "    log_dir: Optional[Union[str, Path]] = \"logs\",\n",
    "    console_output: bool = True,\n",
    "    file_output: bool = True,\n",
    "    format_string: Optional[str] = None,\n",
    "    max_bytes: int = 10_000_000,  # 10MB\n",
    "    backup_count: int = 5,\n",
    "    include_timestamp_in_filename: bool = True,\n",
    ") -> logging.Logger:\n",
    "    \"\"\"\n",
    "    Create a fully featured logger for the Reddit comment moderation system.\n",
    "\n",
    "    This logger is designed to handle all aspects of the multi-stage classification\n",
    "    pipeline including zero-shot classification, fine-tuning, and evaluation.\n",
    "\n",
    "    Parameters\n",
    "    ----------\n",
    "    name : str, optional\n",
    "        Logger name, by default \"reddit_moderation\"\n",
    "    log_level : str, optional\n",
    "        Logging level (\"DEBUG\", \"INFO\", \"WARNING\", \"ERROR\", \"CRITICAL\"),\n",
    "        by default \"INFO\"\n",
    "    log_file : str or Path, optional\n",
    "        Specific log file path. If None, auto-generates based on name and timestamp\n",
    "    log_dir : str or Path, optional\n",
    "        Directory for log files, by default \"logs\"\n",
    "    console_output : bool, optional\n",
    "        Whether to output logs to console, by default True\n",
    "    file_output : bool, optional\n",
    "        Whether to output logs to file, by default True\n",
    "    format_string : str, optional\n",
    "        Custom log format string, by default None (uses comprehensive format)\n",
    "    max_bytes : int, optional\n",
    "        Maximum log file size before rotation, by default 10MB\n",
    "    backup_count : int, optional\n",
    "        Number of backup log files to keep, by default 5\n",
    "    include_timestamp_in_filename : bool, optional\n",
    "        Whether to include timestamp in log filename, by default True\n",
    "\n",
    "    Returns\n",
    "    -------\n",
    "    logging.Logger\n",
    "        Configured logger instance ready for use\n",
    "\n",
    "    Examples\n",
    "    --------\n",
    "    >>> # Basic usage\n",
    "    >>> logger = create_logger()\n",
    "    >>> logger.info(\"Starting Reddit comment classification pipeline\")\n",
    "\n",
    "    >>> # Advanced usage for training\n",
    "    >>> training_logger = create_logger(\n",
    "    ...     name=\"distilbert_training\",\n",
    "    ...     log_level=\"DEBUG\",\n",
    "    ...     log_file=\"training_session.log\"\n",
    "    ... )\n",
    "    >>> training_logger.debug(\"Training batch processed\")\n",
    "\n",
    "    >>> # For evaluation only\n",
    "    >>> eval_logger = create_logger(\n",
    "    ...     name=\"model_evaluation\",\n",
    "    ...     console_output=False,\n",
    "    ...     log_file=\"evaluation_results.log\"\n",
    "    ... )\n",
    "    \"\"\"\n",
    "\n",
    "    # Create logger\n",
    "    logger = logging.getLogger(name)\n",
    "    logger.setLevel(getattr(logging, log_level.upper()))\n",
    "\n",
    "    # Clear existing handlers to avoid duplication\n",
    "    logger.handlers.clear()\n",
    "\n",
    "    # Default comprehensive format for ML workflows\n",
    "    if format_string is None:\n",
    "        format_string = (\n",
    "            \"%(asctime)s | %(name)s | %(levelname)s | %(message)s\"\n",
    "        )\n",
    "\n",
    "    formatter = logging.Formatter(format_string, datefmt=\"%Y-%m-%d %H:%M:%S\")\n",
    "\n",
    "    # Console handler\n",
    "    if console_output:\n",
    "        console_handler = logging.StreamHandler(sys.stdout)\n",
    "        console_handler.setLevel(getattr(logging, log_level.upper()))\n",
    "        console_handler.setFormatter(formatter)\n",
    "        logger.addHandler(console_handler)\n",
    "\n",
    "    # File handler with rotation\n",
    "    if file_output:\n",
    "        # Create log directory\n",
    "        if log_dir:\n",
    "            log_dir = Path(log_dir)\n",
    "            log_dir.mkdir(exist_ok=True)\n",
    "\n",
    "        # Generate log filename\n",
    "        if log_file is None:\n",
    "            timestamp = datetime.now().strftime(\"%Y%m%d_%H%M%S\")\n",
    "            if include_timestamp_in_filename:\n",
    "                log_filename = f\"{name}_{timestamp}.log\"\n",
    "            else:\n",
    "                log_filename = f\"{name}.log\"\n",
    "            log_file = log_dir / log_filename if log_dir else Path(log_filename)\n",
    "        else:\n",
    "            log_file = Path(log_file)\n",
    "            if log_dir and not log_file.is_absolute():\n",
    "                log_file = Path(log_dir) / log_file\n",
    "\n",
    "        # Create rotating file handler\n",
    "        from logging.handlers import RotatingFileHandler\n",
    "\n",
    "        file_handler = RotatingFileHandler(\n",
    "            log_file, maxBytes=max_bytes, backupCount=backup_count, encoding=\"utf-8\"\n",
    "        )\n",
    "        file_handler.setLevel(getattr(logging, log_level.upper()))\n",
    "        file_handler.setFormatter(formatter)\n",
    "        logger.addHandler(file_handler)\n",
    "\n",
    "    # Add some useful methods to the logger\n",
    "    def log_dataset_info(dataset, dataset_name=\"Dataset\"):\n",
    "        \"\"\"Log dataset information\"\"\"\n",
    "        logger.info(f\"{dataset_name} Info:\")\n",
    "        logger.info(f\"  - Size: {len(dataset):,} samples\")\n",
    "        logger.info(f\"  - Columns: {dataset.column_names}\")\n",
    "        if \"labels\" in dataset.column_names:\n",
    "            import numpy as np\n",
    "\n",
    "            labels = np.array(dataset[\"labels\"])\n",
    "            unique, counts = np.unique(labels, return_counts=True)\n",
    "            logger.info(f\"  - Label distribution: {dict(zip(unique, counts))}\")\n",
    "\n",
    "    def log_model_info(model, model_name=\"Model\"):\n",
    "        \"\"\"Log model information\"\"\"\n",
    "        logger.info(f\"{model_name} Info:\")\n",
    "        if hasattr(model, \"config\"):\n",
    "            logger.info(f\"  - Model type: {model.config.model_type}\")\n",
    "            logger.info(f\"  - Hidden size: {model.config.hidden_size}\")\n",
    "            if hasattr(model.config, \"num_labels\"):\n",
    "                logger.info(f\"  - Number of labels: {model.config.num_labels}\")\n",
    "\n",
    "        # Count parameters\n",
    "        total_params = sum(p.numel() for p in model.parameters())\n",
    "        trainable_params = sum(p.numel() for p in model.parameters() if p.requires_grad)\n",
    "        logger.info(f\"  - Total parameters: {total_params:,}\")\n",
    "        logger.info(f\"  - Trainable parameters: {trainable_params:,}\")\n",
    "\n",
    "    def log_training_args(training_args):\n",
    "        \"\"\"Log training arguments\"\"\"\n",
    "        logger.info(\"Training Configuration:\")\n",
    "        logger.info(f\"  - Learning rate: {training_args.learning_rate}\")\n",
    "        logger.info(f\"  - Batch size: {training_args.per_device_train_batch_size}\")\n",
    "        logger.info(\n",
    "            f\"  - Gradient accumulation: {training_args.gradient_accumulation_steps}\"\n",
    "        )\n",
    "        logger.info(f\"  - Epochs: {training_args.num_train_epochs}\")\n",
    "        logger.info(f\"  - Weight decay: {training_args.weight_decay}\")\n",
    "        logger.info(f\"  - LR scheduler: {training_args.lr_scheduler_type}\")\n",
    "        logger.info(f\"  - Warmup ratio: {training_args.warmup_ratio}\")\n",
    "\n",
    "    def log_metrics(metrics, stage=\"\"):\n",
    "        \"\"\"Log evaluation metrics\"\"\"\n",
    "        stage_prefix = f\"{stage} \" if stage else \"\"\n",
    "        logger.info(f\"{stage_prefix}Metrics:\")\n",
    "        for metric, value in metrics.items():\n",
    "            if isinstance(value, float):\n",
    "                logger.info(f\"  - {metric}: {value:.4f}\")\n",
    "            else:\n",
    "                logger.info(f\"  - {metric}: {value}\")\n",
    "\n",
    "    # Attach utility methods to logger\n",
    "    logger.log_dataset_info = log_dataset_info\n",
    "    logger.log_model_info = log_model_info\n",
    "    logger.log_training_args = log_training_args\n",
    "    logger.log_metrics = log_metrics\n",
    "\n",
    "    # Log logger creation\n",
    "    logger.info(f\"Logger '{name}' created successfully\")\n",
    "    logger.info(f\"Log level: {log_level}\")\n",
    "    if file_output:\n",
    "        logger.info(f\"Log file: {log_file}\")\n",
    "\n",
    "    return logger\n",
    "\n",
    "\n",
    "# Convenience function for quick setup\n",
    "def setup_project_logging(debug_mode: bool = False) -> logging.Logger:\n",
    "    \"\"\"\n",
    "    Quick setup for the Reddit moderation project logging.\n",
    "\n",
    "    Parameters\n",
    "    ----------\n",
    "    debug_mode : bool\n",
    "        If True, sets log level to DEBUG and enables verbose logging\n",
    "\n",
    "    Returns\n",
    "    -------\n",
    "    logging.Logger\n",
    "        Configured project logger\n",
    "    \"\"\"\n",
    "    log_level = \"DEBUG\" if debug_mode else \"INFO\"\n",
    "\n",
    "    return create_logger(\n",
    "        name=\"reddit_moderation_pipeline\",\n",
    "        log_level=log_level,\n",
    "        log_dir=\"project_logs\",\n",
    "        include_timestamp_in_filename=True,\n",
    "    )"
   ]
  },
  {
   "cell_type": "markdown",
   "id": "13288925",
   "metadata": {
    "papermill": {
     "duration": 0.007048,
     "end_time": "2025-08-03T07:47:01.237508",
     "exception": false,
     "start_time": "2025-08-03T07:47:01.230460",
     "status": "completed"
    },
    "tags": []
   },
   "source": [
    "# models"
   ]
  },
  {
   "cell_type": "code",
   "execution_count": 9,
   "id": "2cb5eee1",
   "metadata": {
    "execution": {
     "iopub.execute_input": "2025-08-03T07:47:01.252875Z",
     "iopub.status.busy": "2025-08-03T07:47:01.252699Z",
     "iopub.status.idle": "2025-08-03T07:47:01.262737Z",
     "shell.execute_reply": "2025-08-03T07:47:01.262232Z"
    },
    "papermill": {
     "duration": 0.018983,
     "end_time": "2025-08-03T07:47:01.263684",
     "exception": false,
     "start_time": "2025-08-03T07:47:01.244701",
     "status": "completed"
    },
    "tags": []
   },
   "outputs": [
    {
     "name": "stdout",
     "output_type": "stream",
     "text": [
      "2025-08-03 07:47:01 | reddit_moderation | INFO | Logger 'reddit_moderation' created successfully\n",
      "2025-08-03 07:47:01 | reddit_moderation | INFO | Log level: INFO\n",
      "2025-08-03 07:47:01 | reddit_moderation | INFO | Log file: logs/reddit_moderation_20250803_074701.log\n",
      "2025-08-03 07:47:01 | reddit_moderation | INFO | Starting Context-Aware Reddit Comment Moderation System\n",
      "2025-08-03 07:47:01 | distilbert_finetuning | INFO | Logger 'distilbert_finetuning' created successfully\n",
      "2025-08-03 07:47:01 | distilbert_finetuning | INFO | Log level: DEBUG\n",
      "2025-08-03 07:47:01 | distilbert_finetuning | INFO | Log file: logs/training_session.log\n"
     ]
    }
   ],
   "source": [
    "# Basic setup for your notebook\n",
    "logger = create_logger()\n",
    "logger.info(\"Starting Context-Aware Reddit Comment Moderation System\")\n",
    "\n",
    "# Training-specific logger\n",
    "training_logger = create_logger(\n",
    "    name=\"distilbert_finetuning\",\n",
    "    log_level=\"DEBUG\",\n",
    "    log_file=\"training_session.log\"\n",
    ")"
   ]
  },
  {
   "cell_type": "code",
   "execution_count": 10,
   "id": "cfbecbf2",
   "metadata": {
    "execution": {
     "iopub.execute_input": "2025-08-03T07:47:01.280679Z",
     "iopub.status.busy": "2025-08-03T07:47:01.280278Z",
     "iopub.status.idle": "2025-08-03T07:47:01.283274Z",
     "shell.execute_reply": "2025-08-03T07:47:01.282747Z"
    },
    "papermill": {
     "duration": 0.012398,
     "end_time": "2025-08-03T07:47:01.284271",
     "exception": false,
     "start_time": "2025-08-03T07:47:01.271873",
     "status": "completed"
    },
    "tags": []
   },
   "outputs": [],
   "source": [
    "MODEL_PATH = {\n",
    "    \"classifier\": \"/kaggle/input/distilbertdistilbert-base-uncased/transformers/default/1\",\n",
    "    # \"classifier\": \"/kaggle/input/facebookai-roberta-large-mnli/transformers/default/1\",\n",
    "    \"nli\": \"/kaggle/input/moritzlaurerdeberta-v3-base-mnli-fever-anli/transformers/default/1\",\n",
    "}"
   ]
  },
  {
   "cell_type": "code",
   "execution_count": 11,
   "id": "0f4a3868",
   "metadata": {
    "execution": {
     "iopub.execute_input": "2025-08-03T07:47:01.300803Z",
     "iopub.status.busy": "2025-08-03T07:47:01.300407Z",
     "iopub.status.idle": "2025-08-03T07:47:01.304793Z",
     "shell.execute_reply": "2025-08-03T07:47:01.304216Z"
    },
    "papermill": {
     "duration": 0.014054,
     "end_time": "2025-08-03T07:47:01.305833",
     "exception": false,
     "start_time": "2025-08-03T07:47:01.291779",
     "status": "completed"
    },
    "tags": []
   },
   "outputs": [
    {
     "name": "stdout",
     "output_type": "stream",
     "text": [
      "2025-08-03 07:47:01 | reddit_moderation | INFO | MODEL_PATH = {'classifier': '/kaggle/input/distilbertdistilbert-base-uncased/transformers/default/1', 'nli': '/kaggle/input/moritzlaurerdeberta-v3-base-mnli-fever-anli/transformers/default/1'}\n"
     ]
    }
   ],
   "source": [
    "logger.info(f\"{MODEL_PATH = }\")"
   ]
  },
  {
   "cell_type": "markdown",
   "id": "2ac2749c",
   "metadata": {
    "papermill": {
     "duration": 0.052872,
     "end_time": "2025-08-03T07:47:01.366727",
     "exception": false,
     "start_time": "2025-08-03T07:47:01.313855",
     "status": "completed"
    },
    "tags": []
   },
   "source": [
    "# training dataset prep"
   ]
  },
  {
   "cell_type": "code",
   "execution_count": 12,
   "id": "9356a398",
   "metadata": {
    "execution": {
     "iopub.execute_input": "2025-08-03T07:47:01.384286Z",
     "iopub.status.busy": "2025-08-03T07:47:01.383757Z",
     "iopub.status.idle": "2025-08-03T07:47:01.389055Z",
     "shell.execute_reply": "2025-08-03T07:47:01.388363Z"
    },
    "papermill": {
     "duration": 0.015267,
     "end_time": "2025-08-03T07:47:01.390134",
     "exception": false,
     "start_time": "2025-08-03T07:47:01.374867",
     "status": "completed"
    },
    "tags": []
   },
   "outputs": [],
   "source": [
    "def sanitize_comment(comment):\n",
    "    # Convert markdown to HTML, then extract the text (HTML tags removed)\n",
    "    html = markdown2.markdown(comment)\n",
    "    text = BeautifulSoup(html, features=\"html.parser\").get_text()\n",
    "\n",
    "    # Convert markdown links [text](url) to just \"text\"\n",
    "    # Must be done on original comment, but here we do it on extracted text to be safe\n",
    "    # To be sure, you can do it before markdown conversion, but here kept as is for simplicity\n",
    "\n",
    "    # The markdown2 conversion often converts markdown links into HTML anchors,\n",
    "    # so links should already have URL removed by BeautifulSoup.get_text().\n",
    "    # However, just in case, let's remove leftover markdown links from original comment first:\n",
    "    text = re.sub(r\"\\[([^\\]]+)\\]\\(([^)]+)\\)\", r\"\\1\", comment)\n",
    "    # Then re-run markdown2 and extract text again to clean up\n",
    "    html = markdown2.markdown(text)\n",
    "    text = BeautifulSoup(html, features=\"html.parser\").get_text()\n",
    "\n",
    "    # Replace URLs with the url itself as plain text\n",
    "    # Extract URLs and replace markdown-style inline URLs [text](url) with url only is already handled,\n",
    "    # but explicit URLs just in text should be replaced with the URL string, not removed.\n",
    "    # For example: \"visit http://example.com for more\" should keep \"http://example.com\" as is.\n",
    "    # So to convert URL markdown to plain URLs requires us to find URLs and keep them as text.\n",
    "\n",
    "    # Here, let's find URLs and replace any markdown link forms to plain URLs if any missed:\n",
    "    # But since markdown2 and BeautifulSoup stripped them to plain text, raw URLs remain intact.\n",
    "\n",
    "    # So no need to remove URLs, but ensure any URLs embedded in text like \"https://...\" remain\n",
    "    # We can optionally extract and re-insert URLs if you want, but seems not required.\n",
    "\n",
    "    # Just to be sure, let's convert all URL-like substrings to themselves surrounded by spaces (to separate)\n",
    "    # This helps if URLs are concatenated with other text.\n",
    "    url_pattern = re.compile(r\"((?:http|https)://[^\\s]+|www\\.[^\\s]+)\", re.IGNORECASE)\n",
    "    text = url_pattern.sub(lambda m: m.group(0), text)\n",
    "\n",
    "    # Convert non-unicode characters to unicode (ASCII compatible)\n",
    "    text = unidecode(text)\n",
    "\n",
    "    # Normalize whitespace\n",
    "    text = \" \".join(text.split()).lower()\n",
    "\n",
    "    return text\n",
    "\n",
    "\n"
   ]
  },
  {
   "cell_type": "code",
   "execution_count": 13,
   "id": "b61e2701",
   "metadata": {
    "execution": {
     "iopub.execute_input": "2025-08-03T07:47:01.407803Z",
     "iopub.status.busy": "2025-08-03T07:47:01.407620Z",
     "iopub.status.idle": "2025-08-03T07:47:01.417076Z",
     "shell.execute_reply": "2025-08-03T07:47:01.416579Z"
    },
    "jupyter": {
     "source_hidden": true
    },
    "papermill": {
     "duration": 0.019125,
     "end_time": "2025-08-03T07:47:01.418144",
     "exception": false,
     "start_time": "2025-08-03T07:47:01.399019",
     "status": "completed"
    },
    "tags": []
   },
   "outputs": [],
   "source": [
    "def create_master_dataset(\n",
    "    train: pd.DataFrame, \n",
    "    test: pd.DataFrame, \n",
    "    logger: Optional[logging.Logger] = None\n",
    ") -> pd.DataFrame:\n",
    "    if logger:\n",
    "        logger.info(\"Starting master dataset creation\")\n",
    "        logger.info(f\"Input - Train: {len(train)} rows, Test: {len(test)} rows\")\n",
    "    \n",
    "    # 1. From train: use body\n",
    "    if logger:\n",
    "        logger.debug(\"Extracting main training data from 'body' column\")\n",
    "    train_main = train[[\"body\", \"rule\", \"subreddit\", \"rule_violation\"]].copy()\n",
    "    train_main = train_main.rename(\n",
    "        columns={\"body\": \"comment\", \"rule_violation\": \"violation\"}\n",
    "    )\n",
    "    if logger:\n",
    "        logger.debug(f\"Main training data: {len(train_main)} records\")\n",
    "\n",
    "    # 2. From train AND test: from positive/negative examples\n",
    "\n",
    "    # Helper to melt examples from a single dataframe\n",
    "    def extract_examples(\n",
    "        df, prefix_pos=\"positive_example_\", prefix_neg=\"negative_example_\"\n",
    "    ):\n",
    "        records = []\n",
    "\n",
    "        # For positive examples\n",
    "        for i in [1, 2]:\n",
    "            col = f\"{prefix_pos}{i}\"\n",
    "            # Ensure column exists and drop NA\n",
    "            if col in df.columns:\n",
    "                subdf = df[[\"rule\", \"subreddit\", col]].dropna(subset=[col])\n",
    "                if logger:\n",
    "                    logger.debug(f\"Extracting {len(subdf)} positive examples from {col}\")\n",
    "                for _, row in subdf.iterrows():\n",
    "                    records.append(\n",
    "                        {\n",
    "                            \"comment\": row[col],\n",
    "                            \"rule\": row[\"rule\"],\n",
    "                            \"subreddit\": row[\"subreddit\"],\n",
    "                            \"violation\": 1,\n",
    "                        }\n",
    "                    )\n",
    "\n",
    "        # For negative examples\n",
    "        for i in [1, 2]:\n",
    "            col = f\"{prefix_neg}{i}\"\n",
    "            if col in df.columns:\n",
    "                subdf = df[[\"rule\", \"subreddit\", col]].dropna(subset=[col])\n",
    "                if logger:\n",
    "                    logger.debug(f\"Extracting {len(subdf)} negative examples from {col}\")\n",
    "                for _, row in subdf.iterrows():\n",
    "                    records.append(\n",
    "                        {\n",
    "                            \"comment\": row[col],\n",
    "                            \"rule\": row[\"rule\"],\n",
    "                            \"subreddit\": row[\"subreddit\"],\n",
    "                            \"violation\": 0,\n",
    "                        }\n",
    "                    )\n",
    "\n",
    "        return pd.DataFrame(records)\n",
    "\n",
    "    if logger:\n",
    "        logger.debug(\"Extracting examples from train dataset\")\n",
    "    train_examples = extract_examples(train)\n",
    "    if logger:\n",
    "        logger.debug(f\"Train examples extracted: {len(train_examples)} records\")\n",
    "    \n",
    "    if logger:\n",
    "        logger.debug(\"Extracting examples from test dataset\")\n",
    "    test_examples = extract_examples(test)\n",
    "    if logger:\n",
    "        logger.debug(f\"Test examples extracted: {len(test_examples)} records\")\n",
    "\n",
    "    # Concatenate all parts\n",
    "    if logger:\n",
    "        logger.info(\"Concatenating all dataset parts\")\n",
    "    master_df = pd.concat(\n",
    "        [train_main, train_examples, test_examples], ignore_index=True\n",
    "    )\n",
    "\n",
    "    # Optional: drop rows with empty or null comment if any sneaked in\n",
    "    initial_size = len(master_df)\n",
    "    master_df = master_df.dropna(subset=[\"comment\"])\n",
    "    if logger and len(master_df) < initial_size:\n",
    "        logger.warning(f\"Dropped {initial_size - len(master_df)} rows with null comments\")\n",
    "\n",
    "    # Reset index for cleanliness\n",
    "    master_df = master_df.reset_index(drop=True)\n",
    "\n",
    "    if logger:\n",
    "        logger.info(f\"Master dataset created successfully: {len(master_df)} total records\")\n",
    "        logger.info(f\"Violation distribution: {master_df['violation'].value_counts().to_dict()}\")\n",
    "\n",
    "    return master_df\n"
   ]
  },
  {
   "cell_type": "code",
   "execution_count": 14,
   "id": "88a2fecf",
   "metadata": {
    "execution": {
     "iopub.execute_input": "2025-08-03T07:47:01.434453Z",
     "iopub.status.busy": "2025-08-03T07:47:01.433848Z",
     "iopub.status.idle": "2025-08-03T07:47:07.989371Z",
     "shell.execute_reply": "2025-08-03T07:47:07.988566Z"
    },
    "papermill": {
     "duration": 6.564954,
     "end_time": "2025-08-03T07:47:07.990758",
     "exception": false,
     "start_time": "2025-08-03T07:47:01.425804",
     "status": "completed"
    },
    "tags": []
   },
   "outputs": [
    {
     "name": "stdout",
     "output_type": "stream",
     "text": [
      "2025-08-03 07:47:01 | reddit_moderation | INFO | Cleaning c = 'body'\n",
      "2025-08-03 07:47:02 | reddit_moderation | INFO | Cleaning c = 'rule'\n",
      "2025-08-03 07:47:03 | reddit_moderation | INFO | Cleaning c = 'subreddit'\n",
      "2025-08-03 07:47:03 | reddit_moderation | INFO | Cleaning c = 'positive_example_1'\n",
      "2025-08-03 07:47:04 | reddit_moderation | INFO | Cleaning c = 'positive_example_2'\n",
      "2025-08-03 07:47:05 | reddit_moderation | INFO | Cleaning c = 'negative_example_1'\n",
      "2025-08-03 07:47:06 | reddit_moderation | INFO | Cleaning c = 'negative_example_2'\n"
     ]
    }
   ],
   "source": [
    "for c in [\n",
    "    \"body\",\n",
    "    \"rule\",\n",
    "    \"subreddit\",\n",
    "    \"positive_example_1\",\n",
    "    \"positive_example_2\",\n",
    "    \"negative_example_1\",\n",
    "    \"negative_example_2\",\n",
    "]:\n",
    "    logger.info(f\"Cleaning {c = }\")\n",
    "    train[c] = train[c].apply(sanitize_comment)\n",
    "    test[c] = test[c].apply(sanitize_comment)"
   ]
  },
  {
   "cell_type": "code",
   "execution_count": 15,
   "id": "404f2e61",
   "metadata": {
    "execution": {
     "iopub.execute_input": "2025-08-03T07:47:08.008387Z",
     "iopub.status.busy": "2025-08-03T07:47:08.008157Z",
     "iopub.status.idle": "2025-08-03T07:47:08.362814Z",
     "shell.execute_reply": "2025-08-03T07:47:08.362250Z"
    },
    "papermill": {
     "duration": 0.3645,
     "end_time": "2025-08-03T07:47:08.363867",
     "exception": false,
     "start_time": "2025-08-03T07:47:07.999367",
     "status": "completed"
    },
    "tags": []
   },
   "outputs": [
    {
     "name": "stdout",
     "output_type": "stream",
     "text": [
      "2025-08-03 07:47:08 | reddit_moderation | INFO | Starting master dataset creation\n",
      "2025-08-03 07:47:08 | reddit_moderation | INFO | Input - Train: 2029 rows, Test: 10 rows\n",
      "2025-08-03 07:47:08 | reddit_moderation | INFO | Concatenating all dataset parts\n",
      "2025-08-03 07:47:08 | reddit_moderation | INFO | Master dataset created successfully: 10185 total records\n",
      "2025-08-03 07:47:08 | reddit_moderation | INFO | Violation distribution: {1: 5109, 0: 5076}\n"
     ]
    }
   ],
   "source": [
    "master_dataset = create_master_dataset(train, test, logger)"
   ]
  },
  {
   "cell_type": "code",
   "execution_count": 16,
   "id": "056bae3c",
   "metadata": {
    "execution": {
     "iopub.execute_input": "2025-08-03T07:47:08.395876Z",
     "iopub.status.busy": "2025-08-03T07:47:08.395254Z",
     "iopub.status.idle": "2025-08-03T07:47:08.414457Z",
     "shell.execute_reply": "2025-08-03T07:47:08.413624Z"
    },
    "papermill": {
     "duration": 0.038566,
     "end_time": "2025-08-03T07:47:08.415589",
     "exception": false,
     "start_time": "2025-08-03T07:47:08.377023",
     "status": "completed"
    },
    "tags": []
   },
   "outputs": [
    {
     "name": "stdout",
     "output_type": "stream",
     "text": [
      "<class 'pandas.core.frame.DataFrame'>\n",
      "RangeIndex: 10185 entries, 0 to 10184\n",
      "Data columns (total 4 columns):\n",
      " #   Column     Non-Null Count  Dtype \n",
      "---  ------     --------------  ----- \n",
      " 0   comment    10185 non-null  object\n",
      " 1   rule       10185 non-null  object\n",
      " 2   subreddit  10185 non-null  object\n",
      " 3   violation  10185 non-null  int64 \n",
      "dtypes: int64(1), object(3)\n",
      "memory usage: 318.4+ KB\n"
     ]
    }
   ],
   "source": [
    "master_dataset.info()"
   ]
  },
  {
   "cell_type": "code",
   "execution_count": 17,
   "id": "ba512eec",
   "metadata": {
    "execution": {
     "iopub.execute_input": "2025-08-03T07:47:08.432836Z",
     "iopub.status.busy": "2025-08-03T07:47:08.432638Z",
     "iopub.status.idle": "2025-08-03T07:47:08.463404Z",
     "shell.execute_reply": "2025-08-03T07:47:08.462803Z"
    },
    "papermill": {
     "duration": 0.040667,
     "end_time": "2025-08-03T07:47:08.464572",
     "exception": false,
     "start_time": "2025-08-03T07:47:08.423905",
     "status": "completed"
    },
    "tags": []
   },
   "outputs": [],
   "source": [
    "dataset = Dataset.from_pandas(master_dataset)"
   ]
  },
  {
   "cell_type": "markdown",
   "id": "7b33887f",
   "metadata": {
    "papermill": {
     "duration": 0.008652,
     "end_time": "2025-08-03T07:47:08.482227",
     "exception": false,
     "start_time": "2025-08-03T07:47:08.473575",
     "status": "completed"
    },
    "tags": []
   },
   "source": [
    "# extract features"
   ]
  },
  {
   "cell_type": "code",
   "execution_count": 18,
   "id": "cbe7c675",
   "metadata": {
    "execution": {
     "iopub.execute_input": "2025-08-03T07:47:08.500557Z",
     "iopub.status.busy": "2025-08-03T07:47:08.499898Z",
     "iopub.status.idle": "2025-08-03T07:47:08.504515Z",
     "shell.execute_reply": "2025-08-03T07:47:08.503938Z"
    },
    "papermill": {
     "duration": 0.014715,
     "end_time": "2025-08-03T07:47:08.505515",
     "exception": false,
     "start_time": "2025-08-03T07:47:08.490800",
     "status": "completed"
    },
    "tags": []
   },
   "outputs": [
    {
     "data": {
      "text/plain": [
       "'/kaggle/input/moritzlaurerdeberta-v3-base-mnli-fever-anli/transformers/default/1'"
      ]
     },
     "execution_count": 18,
     "metadata": {},
     "output_type": "execute_result"
    }
   ],
   "source": [
    "MODEL_PATH[\"nli\"]"
   ]
  },
  {
   "cell_type": "code",
   "execution_count": 19,
   "id": "09aa1618",
   "metadata": {
    "execution": {
     "iopub.execute_input": "2025-08-03T07:47:08.522726Z",
     "iopub.status.busy": "2025-08-03T07:47:08.522550Z",
     "iopub.status.idle": "2025-08-03T07:47:08.526063Z",
     "shell.execute_reply": "2025-08-03T07:47:08.525380Z"
    },
    "papermill": {
     "duration": 0.013378,
     "end_time": "2025-08-03T07:47:08.527204",
     "exception": false,
     "start_time": "2025-08-03T07:47:08.513826",
     "status": "completed"
    },
    "tags": []
   },
   "outputs": [],
   "source": [
    "device = \"cuda\" if torch.cuda.is_available() else \"cpu\"\n",
    "# # rule_classifier = pipeline(\n",
    "# #     \"zero-shot-classification\", model=MODEL_PATH[\"nli\"], device=device\n",
    "# # )\n",
    "# subreddit_classifier = pipeline(\n",
    "#     \"zero-shot-classification\", model=MODEL_PATH[\"nli\"], device=device\n",
    "# )\n",
    "# rule_vectorizer = TfidfVectorizer().fit(features)\n",
    "# rule_vecs = rule_vectorizer.transform(features)\n",
    "\n",
    "# # subreddit_vectorizer = TfidfVectorizer().fit(subreddits)\n",
    "# # subreddit_vecs = subreddit_vectorizer.transform(subreddits)"
   ]
  },
  {
   "cell_type": "code",
   "execution_count": 20,
   "id": "160655be",
   "metadata": {
    "execution": {
     "iopub.execute_input": "2025-08-03T07:47:08.545330Z",
     "iopub.status.busy": "2025-08-03T07:47:08.544814Z",
     "iopub.status.idle": "2025-08-03T07:47:08.557925Z",
     "shell.execute_reply": "2025-08-03T07:47:08.557244Z"
    },
    "jupyter": {
     "source_hidden": true
    },
    "papermill": {
     "duration": 0.023547,
     "end_time": "2025-08-03T07:47:08.559096",
     "exception": false,
     "start_time": "2025-08-03T07:47:08.535549",
     "status": "completed"
    },
    "tags": []
   },
   "outputs": [],
   "source": [
    "def predict_labels(\n",
    "    batch,  # ← comes from a HF Dataset\n",
    "    vectorizer,\n",
    "    label_vecs,\n",
    "    column: str,\n",
    "    labels: list,\n",
    "    threshold: float = 0.5,\n",
    "    heap_nlargest: int = 2,\n",
    "    logger: Optional[logging.Logger] = None,\n",
    "):\n",
    "    if logger:\n",
    "        logger.info(f\"Starting prediction for column '{column}'\")\n",
    "        \n",
    "    # encode\n",
    "    texts = batch[column] if isinstance(batch[column], list) else [batch[column]]\n",
    "    if logger:\n",
    "        logger.info(f\"Processing {len(texts)} texts from batch\")\n",
    "        \n",
    "    rule_vecs = vectorizer.transform(texts)\n",
    "    if logger:\n",
    "        logger.debug(f\"Vectorized texts: shape {rule_vecs.shape}\")\n",
    "        \n",
    "    sims = (rule_vecs @ label_vecs.T).toarray()  # cosine similarity (same as sklearn's)\n",
    "    if logger:\n",
    "        logger.debug(f\"Computed similarity matrix: shape {sims.shape}\")\n",
    "\n",
    "    out = []\n",
    "    for i, sim_row in enumerate(sims):\n",
    "        pairs = list(zip(labels, sim_row))\n",
    "        top2 = heapq.nlargest(heap_nlargest, pairs, key=lambda x: x[1])\n",
    "        above = [(l, s) for l, s in top2 if s >= threshold]\n",
    "        chosen = above if above else [max(pairs, key=lambda x: x[1])]\n",
    "        \n",
    "        if logger:\n",
    "            best_scores = [f\"{l}:{s:.3f}\" for l, s in top2[:3]]  # Top 3 for debug\n",
    "            logger.info(f\"Sample {i}: top scores {best_scores}, \"\n",
    "                        f\"above threshold: {len(above)}, chosen: {len(chosen)}\")\n",
    "        \n",
    "        out.append(\", \".join(f\"{l}\" for l, s in chosen))\n",
    "\n",
    "    if logger:\n",
    "        logger.info(f\"Prediction completed for {len(out)} samples on column '{column}'\")\n",
    "        logger.info(f\"Sample predictions: {out[:3] if len(out) >= 3 else out}\")\n",
    "\n",
    "    return {f\"predicted_{column}_feature\": out}\n",
    "\n",
    "def predict_labels_nli(\n",
    "    batch,\n",
    "    classifier,\n",
    "    column: str,\n",
    "    labels: list,\n",
    "    threshold: float = 0.8,\n",
    "    lower_threshold: float = 0.5,  # NEW PARAM ─ default 0.5\n",
    "    logger: Optional[logging.Logger] = None,\n",
    "):\n",
    "    if logger:\n",
    "        logger.info(f\"Starting NLI prediction for column '{column}'\")\n",
    "        \n",
    "    texts = batch[column] if isinstance(batch[column], list) else [batch[column]]\n",
    "    if logger:\n",
    "        logger.info(f\"Processing {len(texts)} texts with NLI classifier\")\n",
    "        \n",
    "    outputs = classifier(texts, labels, multi_label=True)\n",
    "    if isinstance(outputs, dict):  # single-example edge case\n",
    "        outputs = [outputs]\n",
    "        if logger:\n",
    "            logger.debug(\"Converted single output dict to list format\")\n",
    "\n",
    "    if logger:\n",
    "        logger.debug(f\"NLI classifier returned {len(outputs)} predictions\")\n",
    "\n",
    "    out = []\n",
    "    fallback_count = 0\n",
    "    for i, o in enumerate(outputs):\n",
    "        pairs = list(zip(o[\"labels\"], o[\"scores\"]))  # (label, score)\n",
    "        top2 = heapq.nlargest(2, pairs, key=lambda x: x[1])\n",
    "        above = [(l, s) for l, s in top2 if s >= threshold]\n",
    "        \n",
    "        if above:\n",
    "            chosen = above  # 1 or 2 labels\n",
    "            if logger:\n",
    "                logger.debug(f\"Sample {i}: {len(above)} labels above threshold {threshold}\")\n",
    "        else:\n",
    "            top1 = max(pairs, key=lambda x: x[1])  # best label overall\n",
    "            if top1[1] < lower_threshold:\n",
    "                chosen = [(\"general or other\", 1.0)]\n",
    "                fallback_count += 1\n",
    "                if logger:\n",
    "                    logger.info(f\"Sample {i}: best score {top1[1]:.3f} < {lower_threshold}, using fallback\")\n",
    "            else:\n",
    "                chosen = [top1]\n",
    "                if logger:\n",
    "                    logger.info(f\"Sample {i}: using best label {top1[0]} with score {top1[1]:.3f}\")\n",
    "        \n",
    "        out.append(\", \".join(f\"{l}\" for l, s in sorted(chosen, key=lambda x: -x[1])))\n",
    "\n",
    "    if logger:\n",
    "        logger.info(f\"NLI prediction completed for {len(out)} samples on column '{column}'\")\n",
    "        if fallback_count > 0:\n",
    "            logger.info(f\"Used fallback 'general or other' for {fallback_count} samples\")\n",
    "        logger.info(f\"Sample predictions: {out[:3] if len(out) >= 3 else out}\")\n",
    "\n",
    "    return {f\"predicted_{column}_feature\": out}"
   ]
  },
  {
   "cell_type": "code",
   "execution_count": 21,
   "id": "f41161d1",
   "metadata": {
    "execution": {
     "iopub.execute_input": "2025-08-03T07:47:08.577767Z",
     "iopub.status.busy": "2025-08-03T07:47:08.577564Z",
     "iopub.status.idle": "2025-08-03T07:47:08.581693Z",
     "shell.execute_reply": "2025-08-03T07:47:08.580976Z"
    },
    "jupyter": {
     "source_hidden": true
    },
    "papermill": {
     "duration": 0.014722,
     "end_time": "2025-08-03T07:47:08.582861",
     "exception": false,
     "start_time": "2025-08-03T07:47:08.568139",
     "status": "completed"
    },
    "tags": []
   },
   "outputs": [],
   "source": [
    "def _calculate_column_lookup(dataset, column, map_fn, **map_kwargs):\n",
    "    unique_vals = list(set(dataset[column]))  # unique strings\n",
    "    mini_ds = Dataset.from_dict({column: unique_vals})  # tiny dataset\n",
    "    scored_ds = mini_ds.map(  # classify once each\n",
    "        partial(map_fn, column=column, **map_kwargs), batched=True, batch_size=128\n",
    "    )\n",
    "    return dict(zip(unique_vals, scored_ds[f\"predicted_{column}_feature\"]))"
   ]
  },
  {
   "cell_type": "code",
   "execution_count": 22,
   "id": "de7af9b3",
   "metadata": {
    "execution": {
     "iopub.execute_input": "2025-08-03T07:47:08.600854Z",
     "iopub.status.busy": "2025-08-03T07:47:08.600407Z",
     "iopub.status.idle": "2025-08-03T07:47:08.604725Z",
     "shell.execute_reply": "2025-08-03T07:47:08.603935Z"
    },
    "jupyter": {
     "source_hidden": true
    },
    "papermill": {
     "duration": 0.014332,
     "end_time": "2025-08-03T07:47:08.605835",
     "exception": false,
     "start_time": "2025-08-03T07:47:08.591503",
     "status": "completed"
    },
    "tags": []
   },
   "outputs": [],
   "source": [
    "def _build_lookups(df, logger=None):\n",
    "    rule_lookup = _calculate_column_lookup(\n",
    "        df,  # or val_hf_small\n",
    "        column=\"rule\",\n",
    "        map_fn=predict_labels,\n",
    "        vectorizer=rule_vectorizer,\n",
    "        label_vecs=rule_vecs,\n",
    "        labels=features,\n",
    "        threshold=0.3,\n",
    "        heap_nlargest=4,\n",
    "        logger=logger\n",
    "    )\n",
    "\n",
    "    subreddit_lookup = _calculate_column_lookup(\n",
    "        df,\n",
    "        column=\"subreddit\",\n",
    "        map_fn=predict_labels_nli,\n",
    "        classifier=subreddit_classifier,\n",
    "        labels=subreddits,\n",
    "        threshold=0.8,\n",
    "        logger=logger\n",
    "    )\n",
    "    return rule_lookup, subreddit_lookup\n",
    "\n"
   ]
  },
  {
   "cell_type": "code",
   "execution_count": 23,
   "id": "c77cff66",
   "metadata": {
    "execution": {
     "iopub.execute_input": "2025-08-03T07:47:08.623546Z",
     "iopub.status.busy": "2025-08-03T07:47:08.622957Z",
     "iopub.status.idle": "2025-08-03T07:47:08.626508Z",
     "shell.execute_reply": "2025-08-03T07:47:08.625967Z"
    },
    "jupyter": {
     "source_hidden": true
    },
    "papermill": {
     "duration": 0.013309,
     "end_time": "2025-08-03T07:47:08.627546",
     "exception": false,
     "start_time": "2025-08-03T07:47:08.614237",
     "status": "completed"
    },
    "tags": []
   },
   "outputs": [],
   "source": [
    "def _map_lookup(example, rule_lookup, subreddit_lookup):\n",
    "    example[\"predicted_rule_feature\"] = rule_lookup[example[\"rule\"]]\n",
    "    example[\"predicted_subreddit_feature\"] = subreddit_lookup[example[\"subreddit\"]]\n",
    "    return example"
   ]
  },
  {
   "cell_type": "code",
   "execution_count": 24,
   "id": "5bb4e188",
   "metadata": {
    "execution": {
     "iopub.execute_input": "2025-08-03T07:47:08.645201Z",
     "iopub.status.busy": "2025-08-03T07:47:08.644671Z",
     "iopub.status.idle": "2025-08-03T07:47:08.648487Z",
     "shell.execute_reply": "2025-08-03T07:47:08.647939Z"
    },
    "jupyter": {
     "source_hidden": true
    },
    "papermill": {
     "duration": 0.013659,
     "end_time": "2025-08-03T07:47:08.649569",
     "exception": false,
     "start_time": "2025-08-03T07:47:08.635910",
     "status": "completed"
    },
    "tags": []
   },
   "outputs": [],
   "source": [
    "def add_classification_preds_rule_subreddit(\n",
    "    df, rule_lookup=None, subreddit_lookup=None, logger=None\n",
    "):\n",
    "    if rule_lookup is None and subreddit_lookup is None:\n",
    "        rule_lookup, subreddit_lookup = _build_lookups(df, logger=logger)\n",
    "    result = df.map(\n",
    "        partial(\n",
    "            _map_lookup, rule_lookup=rule_lookup, subreddit_lookup=subreddit_lookup\n",
    "        ),\n",
    "        desc=\"Attach predictions\",\n",
    "    )\n",
    "    return result, rule_lookup, subreddit_lookup"
   ]
  },
  {
   "cell_type": "code",
   "execution_count": 25,
   "id": "5a7e1098",
   "metadata": {
    "execution": {
     "iopub.execute_input": "2025-08-03T07:47:08.667841Z",
     "iopub.status.busy": "2025-08-03T07:47:08.667451Z",
     "iopub.status.idle": "2025-08-03T07:47:08.670314Z",
     "shell.execute_reply": "2025-08-03T07:47:08.669653Z"
    },
    "papermill": {
     "duration": 0.013126,
     "end_time": "2025-08-03T07:47:08.671335",
     "exception": false,
     "start_time": "2025-08-03T07:47:08.658209",
     "status": "completed"
    },
    "tags": []
   },
   "outputs": [],
   "source": [
    "# dataset, rule_lookup, subreddit_lookup = add_classification_preds_rule_subreddit(\n",
    "#     dataset, logger=logger\n",
    "# )"
   ]
  },
  {
   "cell_type": "markdown",
   "id": "e7c7c202",
   "metadata": {
    "papermill": {
     "duration": 0.008195,
     "end_time": "2025-08-03T07:47:08.687886",
     "exception": false,
     "start_time": "2025-08-03T07:47:08.679691",
     "status": "completed"
    },
    "tags": []
   },
   "source": [
    "# train test split"
   ]
  },
  {
   "cell_type": "code",
   "execution_count": 26,
   "id": "3e895317",
   "metadata": {
    "execution": {
     "iopub.execute_input": "2025-08-03T07:47:08.705377Z",
     "iopub.status.busy": "2025-08-03T07:47:08.705180Z",
     "iopub.status.idle": "2025-08-03T07:47:08.708016Z",
     "shell.execute_reply": "2025-08-03T07:47:08.707424Z"
    },
    "papermill": {
     "duration": 0.012605,
     "end_time": "2025-08-03T07:47:08.708984",
     "exception": false,
     "start_time": "2025-08-03T07:47:08.696379",
     "status": "completed"
    },
    "tags": []
   },
   "outputs": [],
   "source": [
    "# dataset = dataset.cast_column(\"violation\", ClassLabel(names=[\"0\", \"1\"]))"
   ]
  },
  {
   "cell_type": "code",
   "execution_count": 27,
   "id": "a6cae124",
   "metadata": {
    "execution": {
     "iopub.execute_input": "2025-08-03T07:47:08.727061Z",
     "iopub.status.busy": "2025-08-03T07:47:08.726403Z",
     "iopub.status.idle": "2025-08-03T07:47:08.753605Z",
     "shell.execute_reply": "2025-08-03T07:47:08.753083Z"
    },
    "papermill": {
     "duration": 0.037255,
     "end_time": "2025-08-03T07:47:08.754749",
     "exception": false,
     "start_time": "2025-08-03T07:47:08.717494",
     "status": "completed"
    },
    "tags": []
   },
   "outputs": [],
   "source": [
    "splits = dataset.train_test_split(\n",
    "    test_size=0.25, shuffle=True, seed=42\n",
    ")\n",
    "train = splits[\"train\"]\n",
    "test = splits[\"test\"]"
   ]
  },
  {
   "cell_type": "code",
   "execution_count": 28,
   "id": "0b4587b9",
   "metadata": {
    "execution": {
     "iopub.execute_input": "2025-08-03T07:47:08.772294Z",
     "iopub.status.busy": "2025-08-03T07:47:08.772080Z",
     "iopub.status.idle": "2025-08-03T07:47:09.366665Z",
     "shell.execute_reply": "2025-08-03T07:47:09.365802Z"
    },
    "papermill": {
     "duration": 0.604854,
     "end_time": "2025-08-03T07:47:09.367872",
     "exception": false,
     "start_time": "2025-08-03T07:47:08.763018",
     "status": "completed"
    },
    "tags": []
   },
   "outputs": [
    {
     "name": "stdout",
     "output_type": "stream",
     "text": [
      "GPU memory allocated: 0.00 MB\n",
      "GPU memory cached: 0.00 MB\n"
     ]
    }
   ],
   "source": [
    "\n",
    "import gc\n",
    "\n",
    "# Delete all objects\n",
    "del master_dataset\n",
    "\n",
    "\n",
    "# Force garbage collection\n",
    "gc.collect()\n",
    "\n",
    "# Clear GPU memory cache (if using CUDA)\n",
    "if torch.cuda.is_available():\n",
    "    torch.cuda.empty_cache()\n",
    "    torch.cuda.synchronize()\n",
    "    \n",
    "# Optional: Print memory usage to verify cleanup\n",
    "if torch.cuda.is_available():\n",
    "    print(f\"GPU memory allocated: {torch.cuda.memory_allocated()/1024**2:.2f} MB\")\n",
    "    print(f\"GPU memory cached: {torch.cuda.memory_reserved()/1024**2:.2f} MB\")\n"
   ]
  },
  {
   "cell_type": "markdown",
   "id": "1786718f",
   "metadata": {
    "papermill": {
     "duration": 0.008592,
     "end_time": "2025-08-03T07:47:09.385416",
     "exception": false,
     "start_time": "2025-08-03T07:47:09.376824",
     "status": "completed"
    },
    "tags": []
   },
   "source": [
    "# finetune text classification pipeline"
   ]
  },
  {
   "cell_type": "code",
   "execution_count": 29,
   "id": "2218eb33",
   "metadata": {
    "execution": {
     "iopub.execute_input": "2025-08-03T07:47:09.402666Z",
     "iopub.status.busy": "2025-08-03T07:47:09.402440Z",
     "iopub.status.idle": "2025-08-03T07:47:09.409242Z",
     "shell.execute_reply": "2025-08-03T07:47:09.408666Z"
    },
    "papermill": {
     "duration": 0.016636,
     "end_time": "2025-08-03T07:47:09.410249",
     "exception": false,
     "start_time": "2025-08-03T07:47:09.393613",
     "status": "completed"
    },
    "tags": []
   },
   "outputs": [
    {
     "name": "stdout",
     "output_type": "stream",
     "text": [
      "2025-08-03 07:47:09 | finetuning | INFO | Logger 'finetuning' created successfully\n",
      "2025-08-03 07:47:09 | finetuning | INFO | Log level: DEBUG\n",
      "2025-08-03 07:47:09 | finetuning | INFO | Log file: logs/training_session.log\n"
     ]
    }
   ],
   "source": [
    "# Training-specific logger\n",
    "training_logger = create_logger(\n",
    "    name=\"finetuning\",\n",
    "    log_level=\"DEBUG\",\n",
    "    log_file=\"training_session.log\"\n",
    ")"
   ]
  },
  {
   "cell_type": "code",
   "execution_count": 30,
   "id": "e46a6099",
   "metadata": {
    "execution": {
     "iopub.execute_input": "2025-08-03T07:47:09.429013Z",
     "iopub.status.busy": "2025-08-03T07:47:09.428601Z",
     "iopub.status.idle": "2025-08-03T07:47:09.556397Z",
     "shell.execute_reply": "2025-08-03T07:47:09.555529Z"
    },
    "papermill": {
     "duration": 0.13815,
     "end_time": "2025-08-03T07:47:09.557911",
     "exception": false,
     "start_time": "2025-08-03T07:47:09.419761",
     "status": "completed"
    },
    "tags": []
   },
   "outputs": [],
   "source": [
    "tokenizer = AutoTokenizer.from_pretrained(MODEL_PATH[\"classifier\"])"
   ]
  },
  {
   "cell_type": "code",
   "execution_count": 31,
   "id": "38973724",
   "metadata": {
    "execution": {
     "iopub.execute_input": "2025-08-03T07:47:09.578444Z",
     "iopub.status.busy": "2025-08-03T07:47:09.577924Z",
     "iopub.status.idle": "2025-08-03T07:47:09.581664Z",
     "shell.execute_reply": "2025-08-03T07:47:09.580915Z"
    },
    "papermill": {
     "duration": 0.014576,
     "end_time": "2025-08-03T07:47:09.582828",
     "exception": false,
     "start_time": "2025-08-03T07:47:09.568252",
     "status": "completed"
    },
    "tags": []
   },
   "outputs": [],
   "source": [
    "def _make_prompt(row):\n",
    "    prompt = f\"\"\"Rule: {row['rule']}\n",
    "\n",
    "Comment: \"{row['comment']}\"\n",
    "\n",
    "Question: Does this comment violate the rule?\n",
    "Answer:\"\"\"\n",
    "    return {\"prompt\": prompt}\n",
    "\n",
    "\n"
   ]
  },
  {
   "cell_type": "code",
   "execution_count": 32,
   "id": "9d7a226f",
   "metadata": {
    "execution": {
     "iopub.execute_input": "2025-08-03T07:47:09.601202Z",
     "iopub.status.busy": "2025-08-03T07:47:09.600794Z",
     "iopub.status.idle": "2025-08-03T07:47:09.604248Z",
     "shell.execute_reply": "2025-08-03T07:47:09.603543Z"
    },
    "jupyter": {
     "source_hidden": true
    },
    "papermill": {
     "duration": 0.013662,
     "end_time": "2025-08-03T07:47:09.605369",
     "exception": false,
     "start_time": "2025-08-03T07:47:09.591707",
     "status": "completed"
    },
    "tags": []
   },
   "outputs": [],
   "source": [
    "def preprocess_(batch):\n",
    "    return tokenizer(batch[\"prompt\"], padding=\"max_length\", truncation=True)\n",
    "\n",
    "\n"
   ]
  },
  {
   "cell_type": "code",
   "execution_count": 33,
   "id": "60ff6ea8",
   "metadata": {
    "execution": {
     "iopub.execute_input": "2025-08-03T07:47:09.623090Z",
     "iopub.status.busy": "2025-08-03T07:47:09.622878Z",
     "iopub.status.idle": "2025-08-03T07:47:10.599413Z",
     "shell.execute_reply": "2025-08-03T07:47:10.598812Z"
    },
    "papermill": {
     "duration": 0.986483,
     "end_time": "2025-08-03T07:47:10.600461",
     "exception": false,
     "start_time": "2025-08-03T07:47:09.613978",
     "status": "completed"
    },
    "tags": []
   },
   "outputs": [
    {
     "data": {
      "application/vnd.jupyter.widget-view+json": {
       "model_id": "8b2a4f11539149a0863e4f1ebcc5c5f9",
       "version_major": 2,
       "version_minor": 0
      },
      "text/plain": [
       "Map:   0%|          | 0/7638 [00:00<?, ? examples/s]"
      ]
     },
     "metadata": {},
     "output_type": "display_data"
    },
    {
     "data": {
      "application/vnd.jupyter.widget-view+json": {
       "model_id": "957be45d2f40450d98fe8bd99aed9b26",
       "version_major": 2,
       "version_minor": 0
      },
      "text/plain": [
       "Map:   0%|          | 0/2547 [00:00<?, ? examples/s]"
      ]
     },
     "metadata": {},
     "output_type": "display_data"
    }
   ],
   "source": [
    "train = train.map(_make_prompt)\n",
    "test = test.map(_make_prompt)"
   ]
  },
  {
   "cell_type": "code",
   "execution_count": 34,
   "id": "0f4afd66",
   "metadata": {
    "execution": {
     "iopub.execute_input": "2025-08-03T07:47:10.619740Z",
     "iopub.status.busy": "2025-08-03T07:47:10.619518Z",
     "iopub.status.idle": "2025-08-03T07:47:14.207689Z",
     "shell.execute_reply": "2025-08-03T07:47:14.206899Z"
    },
    "papermill": {
     "duration": 3.59858,
     "end_time": "2025-08-03T07:47:14.208906",
     "exception": false,
     "start_time": "2025-08-03T07:47:10.610326",
     "status": "completed"
    },
    "tags": []
   },
   "outputs": [
    {
     "data": {
      "application/vnd.jupyter.widget-view+json": {
       "model_id": "c16a464db84745469985952778c04fda",
       "version_major": 2,
       "version_minor": 0
      },
      "text/plain": [
       "Map:   0%|          | 0/7638 [00:00<?, ? examples/s]"
      ]
     },
     "metadata": {},
     "output_type": "display_data"
    },
    {
     "data": {
      "application/vnd.jupyter.widget-view+json": {
       "model_id": "67a871afc50447c1b988d26be82a4c6f",
       "version_major": 2,
       "version_minor": 0
      },
      "text/plain": [
       "Map:   0%|          | 0/2547 [00:00<?, ? examples/s]"
      ]
     },
     "metadata": {},
     "output_type": "display_data"
    }
   ],
   "source": [
    "tokenized_train = train.map(preprocess_, batched=True, batch_size=128)\n",
    "tokenized_test = test.map(preprocess_, batched=True, batch_size=128)"
   ]
  },
  {
   "cell_type": "code",
   "execution_count": 35,
   "id": "24de1eb2",
   "metadata": {
    "execution": {
     "iopub.execute_input": "2025-08-03T07:47:14.228125Z",
     "iopub.status.busy": "2025-08-03T07:47:14.227865Z",
     "iopub.status.idle": "2025-08-03T07:47:14.236824Z",
     "shell.execute_reply": "2025-08-03T07:47:14.236265Z"
    },
    "papermill": {
     "duration": 0.019627,
     "end_time": "2025-08-03T07:47:14.237925",
     "exception": false,
     "start_time": "2025-08-03T07:47:14.218298",
     "status": "completed"
    },
    "tags": []
   },
   "outputs": [
    {
     "name": "stdout",
     "output_type": "stream",
     "text": [
      "2025-08-03 07:47:14 | finetuning | INFO | Training Dataset Info:\n",
      "2025-08-03 07:47:14 | finetuning | INFO |   - Size: 7,638 samples\n",
      "2025-08-03 07:47:14 | finetuning | INFO |   - Columns: ['comment', 'rule', 'subreddit', 'violation', 'prompt', 'input_ids', 'token_type_ids', 'attention_mask']\n",
      "2025-08-03 07:47:14 | finetuning | INFO | Validation Dataset Info:\n",
      "2025-08-03 07:47:14 | finetuning | INFO |   - Size: 2,547 samples\n",
      "2025-08-03 07:47:14 | finetuning | INFO |   - Columns: ['comment', 'rule', 'subreddit', 'violation', 'prompt', 'input_ids', 'token_type_ids', 'attention_mask']\n"
     ]
    }
   ],
   "source": [
    "# Log your dataset info\n",
    "training_logger.log_dataset_info(tokenized_train, \"Training Dataset\")\n",
    "training_logger.log_dataset_info(tokenized_test, \"Validation Dataset\")"
   ]
  },
  {
   "cell_type": "code",
   "execution_count": 36,
   "id": "3fce8473",
   "metadata": {
    "execution": {
     "iopub.execute_input": "2025-08-03T07:47:14.257364Z",
     "iopub.status.busy": "2025-08-03T07:47:14.257170Z",
     "iopub.status.idle": "2025-08-03T07:47:14.260143Z",
     "shell.execute_reply": "2025-08-03T07:47:14.259599Z"
    },
    "papermill": {
     "duration": 0.01398,
     "end_time": "2025-08-03T07:47:14.261237",
     "exception": false,
     "start_time": "2025-08-03T07:47:14.247257",
     "status": "completed"
    },
    "tags": []
   },
   "outputs": [],
   "source": [
    "data_collator = DataCollatorWithPadding(tokenizer=tokenizer)"
   ]
  },
  {
   "cell_type": "code",
   "execution_count": 37,
   "id": "db0c8f83",
   "metadata": {
    "execution": {
     "iopub.execute_input": "2025-08-03T07:47:14.280418Z",
     "iopub.status.busy": "2025-08-03T07:47:14.280243Z",
     "iopub.status.idle": "2025-08-03T07:47:14.287066Z",
     "shell.execute_reply": "2025-08-03T07:47:14.286587Z"
    },
    "papermill": {
     "duration": 0.017665,
     "end_time": "2025-08-03T07:47:14.288028",
     "exception": false,
     "start_time": "2025-08-03T07:47:14.270363",
     "status": "completed"
    },
    "tags": []
   },
   "outputs": [],
   "source": [
    "columns = [\"input_ids\", \"attention_mask\", \"violation\"]\n",
    "tokenized_train.set_format(type=\"torch\", columns=columns)\n",
    "tokenized_test.set_format(type=\"torch\", columns=columns)\n",
    "\n",
    "tokenized_train = tokenized_train.rename_column(\"violation\", \"labels\")\n",
    "tokenized_test = tokenized_test.rename_column(\"violation\", \"labels\")"
   ]
  },
  {
   "cell_type": "code",
   "execution_count": 38,
   "id": "564c4a17",
   "metadata": {
    "execution": {
     "iopub.execute_input": "2025-08-03T07:47:14.306958Z",
     "iopub.status.busy": "2025-08-03T07:47:14.306754Z",
     "iopub.status.idle": "2025-08-03T07:47:14.310583Z",
     "shell.execute_reply": "2025-08-03T07:47:14.310071Z"
    },
    "papermill": {
     "duration": 0.014477,
     "end_time": "2025-08-03T07:47:14.311621",
     "exception": false,
     "start_time": "2025-08-03T07:47:14.297144",
     "status": "completed"
    },
    "tags": []
   },
   "outputs": [],
   "source": [
    "def compute_column_auc(eval_pred, logger=logger):\n",
    "    print(f\"{type(eval_pred) = }\")\n",
    "    logits, labels = eval_pred\n",
    "    logger.info(f\"{type(logits) = } | {type(labels) = } | {logits.shape = } | {labels.shape = }\")\n",
    "    probs = softmax(logits, axis=1)[:, 1]\n",
    "    auc = roc_auc_score(y_true=labels, y_score=probs)\n",
    "    return {\"auc\": auc}"
   ]
  },
  {
   "cell_type": "code",
   "execution_count": 39,
   "id": "bfbaeb4d",
   "metadata": {
    "execution": {
     "iopub.execute_input": "2025-08-03T07:47:14.330980Z",
     "iopub.status.busy": "2025-08-03T07:47:14.330643Z",
     "iopub.status.idle": "2025-08-03T07:47:15.427262Z",
     "shell.execute_reply": "2025-08-03T07:47:15.426282Z"
    },
    "papermill": {
     "duration": 1.10779,
     "end_time": "2025-08-03T07:47:15.428847",
     "exception": false,
     "start_time": "2025-08-03T07:47:14.321057",
     "status": "completed"
    },
    "tags": []
   },
   "outputs": [
    {
     "name": "stderr",
     "output_type": "stream",
     "text": [
      "Some weights of BertForSequenceClassification were not initialized from the model checkpoint at /kaggle/input/distilbertdistilbert-base-uncased/transformers/default/1 and are newly initialized: ['classifier.bias', 'classifier.weight']\n",
      "You should probably TRAIN this model on a down-stream task to be able to use it for predictions and inference.\n"
     ]
    }
   ],
   "source": [
    "id2label = {0: \"not a violation\", 1: \"violation\"}\n",
    "label2id = {\"not a violation\": 0, \"violation\": 1}\n",
    "model = AutoModelForSequenceClassification.from_pretrained(\n",
    "    MODEL_PATH[\"classifier\"], num_labels=2, id2label=id2label, label2id=label2id\n",
    ")"
   ]
  },
  {
   "cell_type": "code",
   "execution_count": 40,
   "id": "74b6909e",
   "metadata": {
    "execution": {
     "iopub.execute_input": "2025-08-03T07:47:15.448750Z",
     "iopub.status.busy": "2025-08-03T07:47:15.448532Z",
     "iopub.status.idle": "2025-08-03T07:47:15.458300Z",
     "shell.execute_reply": "2025-08-03T07:47:15.457718Z"
    },
    "papermill": {
     "duration": 0.020577,
     "end_time": "2025-08-03T07:47:15.459310",
     "exception": false,
     "start_time": "2025-08-03T07:47:15.438733",
     "status": "completed"
    },
    "tags": []
   },
   "outputs": [
    {
     "name": "stdout",
     "output_type": "stream",
     "text": [
      "2025-08-03 07:47:15 | finetuning | INFO | Classifier Info:\n",
      "2025-08-03 07:47:15 | finetuning | INFO |   - Model type: bert\n",
      "2025-08-03 07:47:15 | finetuning | INFO |   - Hidden size: 768\n",
      "2025-08-03 07:47:15 | finetuning | INFO |   - Number of labels: 2\n",
      "2025-08-03 07:47:15 | finetuning | INFO |   - Total parameters: 109,483,778\n",
      "2025-08-03 07:47:15 | finetuning | INFO |   - Trainable parameters: 109,483,778\n"
     ]
    }
   ],
   "source": [
    "# Log model information\n",
    "training_logger.log_model_info(model, \"Classifier\")"
   ]
  },
  {
   "cell_type": "code",
   "execution_count": 41,
   "id": "c5907adb",
   "metadata": {
    "execution": {
     "iopub.execute_input": "2025-08-03T07:47:15.479434Z",
     "iopub.status.busy": "2025-08-03T07:47:15.479219Z",
     "iopub.status.idle": "2025-08-03T07:47:20.467005Z",
     "shell.execute_reply": "2025-08-03T07:47:20.466418Z"
    },
    "papermill": {
     "duration": 4.999199,
     "end_time": "2025-08-03T07:47:20.468390",
     "exception": false,
     "start_time": "2025-08-03T07:47:15.469191",
     "status": "completed"
    },
    "tags": []
   },
   "outputs": [],
   "source": [
    "os.makedirs(\"finetuned-model\", exist_ok=True)\n",
    "training_args = TrainingArguments(\n",
    "    output_dir=\"finetuned-model\",\n",
    "    learning_rate=3e-5,  # Changed from 2e-3\n",
    "    per_device_train_batch_size=8,\n",
    "    per_device_eval_batch_size=8,\n",
    "    gradient_accumulation_steps=4,\n",
    "    num_train_epochs=2,\n",
    "    weight_decay=0.01,\n",
    "    eval_strategy=\"steps\",\n",
    "    eval_steps=20,\n",
    "    save_strategy=\"steps\",\n",
    "    save_steps=200,\n",
    "    logging_steps=5,\n",
    "    load_best_model_at_end=True,\n",
    "    push_to_hub=False,\n",
    "    # Add these for better convergence\n",
    "    lr_scheduler_type=\"linear\",\n",
    "    warmup_ratio=0.1,\n",
    "    report_to=\"none\",\n",
    "    metric_for_best_model=\"auc\",\n",
    "    greater_is_better=True,\n",
    ")\n",
    "\n",
    "trainer = Trainer(\n",
    "    model=model,\n",
    "    args=training_args,\n",
    "    train_dataset=tokenized_train,\n",
    "    eval_dataset=tokenized_test,\n",
    "    processing_class=tokenizer,\n",
    "    data_collator=data_collator,\n",
    "    compute_metrics=compute_column_auc,\n",
    "    callbacks = [EarlyStoppingCallback(early_stopping_patience=5, early_stopping_threshold=0.005),]\n",
    ")"
   ]
  },
  {
   "cell_type": "code",
   "execution_count": 42,
   "id": "d2120173",
   "metadata": {
    "execution": {
     "iopub.execute_input": "2025-08-03T07:47:20.488935Z",
     "iopub.status.busy": "2025-08-03T07:47:20.488713Z",
     "iopub.status.idle": "2025-08-03T08:10:04.940650Z",
     "shell.execute_reply": "2025-08-03T08:10:04.940023Z"
    },
    "papermill": {
     "duration": 1364.46296,
     "end_time": "2025-08-03T08:10:04.941723",
     "exception": false,
     "start_time": "2025-08-03T07:47:20.478763",
     "status": "completed"
    },
    "tags": []
   },
   "outputs": [
    {
     "data": {
      "text/html": [
       "\n",
       "    <div>\n",
       "      \n",
       "      <progress value='240' max='240' style='width:300px; height:20px; vertical-align: middle;'></progress>\n",
       "      [240/240 22:38, Epoch 2/2]\n",
       "    </div>\n",
       "    <table border=\"1\" class=\"dataframe\">\n",
       "  <thead>\n",
       " <tr style=\"text-align: left;\">\n",
       "      <th>Step</th>\n",
       "      <th>Training Loss</th>\n",
       "      <th>Validation Loss</th>\n",
       "      <th>Auc</th>\n",
       "    </tr>\n",
       "  </thead>\n",
       "  <tbody>\n",
       "    <tr>\n",
       "      <td>20</td>\n",
       "      <td>0.698200</td>\n",
       "      <td>0.670966</td>\n",
       "      <td>0.700155</td>\n",
       "    </tr>\n",
       "    <tr>\n",
       "      <td>40</td>\n",
       "      <td>0.649600</td>\n",
       "      <td>0.633912</td>\n",
       "      <td>0.715748</td>\n",
       "    </tr>\n",
       "    <tr>\n",
       "      <td>60</td>\n",
       "      <td>0.837400</td>\n",
       "      <td>0.862144</td>\n",
       "      <td>0.754429</td>\n",
       "    </tr>\n",
       "    <tr>\n",
       "      <td>80</td>\n",
       "      <td>0.822700</td>\n",
       "      <td>0.585120</td>\n",
       "      <td>0.763746</td>\n",
       "    </tr>\n",
       "    <tr>\n",
       "      <td>100</td>\n",
       "      <td>0.541700</td>\n",
       "      <td>0.610952</td>\n",
       "      <td>0.796687</td>\n",
       "    </tr>\n",
       "    <tr>\n",
       "      <td>120</td>\n",
       "      <td>0.480600</td>\n",
       "      <td>0.488683</td>\n",
       "      <td>0.862416</td>\n",
       "    </tr>\n",
       "    <tr>\n",
       "      <td>140</td>\n",
       "      <td>0.477400</td>\n",
       "      <td>0.401793</td>\n",
       "      <td>0.918849</td>\n",
       "    </tr>\n",
       "    <tr>\n",
       "      <td>160</td>\n",
       "      <td>0.552700</td>\n",
       "      <td>0.505590</td>\n",
       "      <td>0.931138</td>\n",
       "    </tr>\n",
       "    <tr>\n",
       "      <td>180</td>\n",
       "      <td>0.363200</td>\n",
       "      <td>0.359585</td>\n",
       "      <td>0.939669</td>\n",
       "    </tr>\n",
       "    <tr>\n",
       "      <td>200</td>\n",
       "      <td>0.366800</td>\n",
       "      <td>0.471210</td>\n",
       "      <td>0.946724</td>\n",
       "    </tr>\n",
       "    <tr>\n",
       "      <td>220</td>\n",
       "      <td>0.300900</td>\n",
       "      <td>0.292412</td>\n",
       "      <td>0.949883</td>\n",
       "    </tr>\n",
       "    <tr>\n",
       "      <td>240</td>\n",
       "      <td>0.283100</td>\n",
       "      <td>0.284833</td>\n",
       "      <td>0.951835</td>\n",
       "    </tr>\n",
       "  </tbody>\n",
       "</table><p>"
      ],
      "text/plain": [
       "<IPython.core.display.HTML object>"
      ]
     },
     "metadata": {},
     "output_type": "display_data"
    },
    {
     "name": "stdout",
     "output_type": "stream",
     "text": [
      "type(eval_pred) = <class 'transformers.trainer_utils.EvalPrediction'>\n",
      "2025-08-03 07:49:12 | reddit_moderation | INFO | type(logits) = <class 'numpy.ndarray'> | type(labels) = <class 'numpy.ndarray'> | logits.shape = (2547, 2) | labels.shape = (2547,)\n",
      "type(eval_pred) = <class 'transformers.trainer_utils.EvalPrediction'>\n",
      "2025-08-03 07:51:06 | reddit_moderation | INFO | type(logits) = <class 'numpy.ndarray'> | type(labels) = <class 'numpy.ndarray'> | logits.shape = (2547, 2) | labels.shape = (2547,)\n",
      "type(eval_pred) = <class 'transformers.trainer_utils.EvalPrediction'>\n",
      "2025-08-03 07:52:59 | reddit_moderation | INFO | type(logits) = <class 'numpy.ndarray'> | type(labels) = <class 'numpy.ndarray'> | logits.shape = (2547, 2) | labels.shape = (2547,)\n",
      "type(eval_pred) = <class 'transformers.trainer_utils.EvalPrediction'>\n",
      "2025-08-03 07:54:53 | reddit_moderation | INFO | type(logits) = <class 'numpy.ndarray'> | type(labels) = <class 'numpy.ndarray'> | logits.shape = (2547, 2) | labels.shape = (2547,)\n",
      "type(eval_pred) = <class 'transformers.trainer_utils.EvalPrediction'>\n",
      "2025-08-03 07:56:47 | reddit_moderation | INFO | type(logits) = <class 'numpy.ndarray'> | type(labels) = <class 'numpy.ndarray'> | logits.shape = (2547, 2) | labels.shape = (2547,)\n",
      "type(eval_pred) = <class 'transformers.trainer_utils.EvalPrediction'>\n",
      "2025-08-03 07:58:39 | reddit_moderation | INFO | type(logits) = <class 'numpy.ndarray'> | type(labels) = <class 'numpy.ndarray'> | logits.shape = (2547, 2) | labels.shape = (2547,)\n",
      "type(eval_pred) = <class 'transformers.trainer_utils.EvalPrediction'>\n",
      "2025-08-03 08:00:33 | reddit_moderation | INFO | type(logits) = <class 'numpy.ndarray'> | type(labels) = <class 'numpy.ndarray'> | logits.shape = (2547, 2) | labels.shape = (2547,)\n",
      "type(eval_pred) = <class 'transformers.trainer_utils.EvalPrediction'>\n",
      "2025-08-03 08:02:27 | reddit_moderation | INFO | type(logits) = <class 'numpy.ndarray'> | type(labels) = <class 'numpy.ndarray'> | logits.shape = (2547, 2) | labels.shape = (2547,)\n",
      "type(eval_pred) = <class 'transformers.trainer_utils.EvalPrediction'>\n",
      "2025-08-03 08:04:21 | reddit_moderation | INFO | type(logits) = <class 'numpy.ndarray'> | type(labels) = <class 'numpy.ndarray'> | logits.shape = (2547, 2) | labels.shape = (2547,)\n",
      "type(eval_pred) = <class 'transformers.trainer_utils.EvalPrediction'>\n",
      "2025-08-03 08:06:14 | reddit_moderation | INFO | type(logits) = <class 'numpy.ndarray'> | type(labels) = <class 'numpy.ndarray'> | logits.shape = (2547, 2) | labels.shape = (2547,)\n",
      "type(eval_pred) = <class 'transformers.trainer_utils.EvalPrediction'>\n",
      "2025-08-03 08:08:10 | reddit_moderation | INFO | type(logits) = <class 'numpy.ndarray'> | type(labels) = <class 'numpy.ndarray'> | logits.shape = (2547, 2) | labels.shape = (2547,)\n",
      "type(eval_pred) = <class 'transformers.trainer_utils.EvalPrediction'>\n",
      "2025-08-03 08:10:02 | reddit_moderation | INFO | type(logits) = <class 'numpy.ndarray'> | type(labels) = <class 'numpy.ndarray'> | logits.shape = (2547, 2) | labels.shape = (2547,)\n"
     ]
    },
    {
     "data": {
      "text/plain": [
       "TrainOutput(global_step=240, training_loss=0.5366206586360931, metrics={'train_runtime': 1364.0065, 'train_samples_per_second': 11.199, 'train_steps_per_second': 0.176, 'total_flos': 4019284481679360.0, 'train_loss': 0.5366206586360931, 'epoch': 2.0})"
      ]
     },
     "execution_count": 42,
     "metadata": {},
     "output_type": "execute_result"
    }
   ],
   "source": [
    "trainer.train()"
   ]
  },
  {
   "cell_type": "code",
   "execution_count": 43,
   "id": "8ed30e5b",
   "metadata": {
    "execution": {
     "iopub.execute_input": "2025-08-03T08:10:04.963689Z",
     "iopub.status.busy": "2025-08-03T08:10:04.963115Z",
     "iopub.status.idle": "2025-08-03T08:10:50.646772Z",
     "shell.execute_reply": "2025-08-03T08:10:50.646198Z"
    },
    "papermill": {
     "duration": 45.695458,
     "end_time": "2025-08-03T08:10:50.647879",
     "exception": false,
     "start_time": "2025-08-03T08:10:04.952421",
     "status": "completed"
    },
    "tags": []
   },
   "outputs": [
    {
     "data": {
      "text/html": [],
      "text/plain": [
       "<IPython.core.display.HTML object>"
      ]
     },
     "metadata": {},
     "output_type": "display_data"
    },
    {
     "name": "stdout",
     "output_type": "stream",
     "text": [
      "type(eval_pred) = <class 'transformers.trainer_utils.EvalPrediction'>\n",
      "2025-08-03 08:10:50 | reddit_moderation | INFO | type(logits) = <class 'numpy.ndarray'> | type(labels) = <class 'numpy.ndarray'> | logits.shape = (2547, 2) | labels.shape = (2547,)\n",
      "2025-08-03 08:10:50 | reddit_moderation | INFO | Mean_column_AUC: 0.9518348340825769\n"
     ]
    }
   ],
   "source": [
    "results = trainer.evaluate()\n",
    "logger.info(f\"Mean_column_AUC: {results['eval_auc']}\", )"
   ]
  },
  {
   "cell_type": "markdown",
   "id": "8ae2fc25",
   "metadata": {
    "papermill": {
     "duration": 0.010105,
     "end_time": "2025-08-03T08:10:50.669234",
     "exception": false,
     "start_time": "2025-08-03T08:10:50.659129",
     "status": "completed"
    },
    "tags": []
   },
   "source": [
    "# now to train on entire dataset"
   ]
  },
  {
   "cell_type": "code",
   "execution_count": 44,
   "id": "d7fa63ba",
   "metadata": {
    "execution": {
     "iopub.execute_input": "2025-08-03T08:10:50.691668Z",
     "iopub.status.busy": "2025-08-03T08:10:50.691473Z",
     "iopub.status.idle": "2025-08-03T08:10:50.696169Z",
     "shell.execute_reply": "2025-08-03T08:10:50.695598Z"
    },
    "papermill": {
     "duration": 0.017254,
     "end_time": "2025-08-03T08:10:50.697271",
     "exception": false,
     "start_time": "2025-08-03T08:10:50.680017",
     "status": "completed"
    },
    "tags": []
   },
   "outputs": [],
   "source": [
    "# # Combine your train and validation datasets\n",
    "# full_dataset = concatenate_datasets([tokenized_train, tokenized_test])\n",
    "\n",
    "# # Update your trainer configuration\n",
    "# os.makedirs(\"finetuned-model-full\", exist_ok=True)\n",
    "# training_args = TrainingArguments(\n",
    "#     output_dir=\"finetuned-model-full\",  # Different output dir\n",
    "#     # Learning rate - much lower for fine-tuning pre-trained model\n",
    "#     learning_rate=1e-5,                      # Conservative for large model\n",
    "#     # Batch configuration\n",
    "#     per_device_train_batch_size=4,           # Smaller due to model size\n",
    "#     per_device_eval_batch_size=4,\n",
    "#     gradient_accumulation_steps=8,           # 4 * 8 = 32 effective batch size\n",
    "#     # Training duration\n",
    "#     num_train_epochs=3,                      # Start conservatively\n",
    "#     # Optimization\n",
    "#     weight_decay=0.01,                       # From original training\n",
    "#     adam_beta1=0.9,                         # From original training\n",
    "#     adam_beta2=0.98,                        # From original training (not default 0.999)\n",
    "#     # Learning rate scheduling\n",
    "#     lr_scheduler_type=\"linear\",\n",
    "#     warmup_ratio=0.06,                      # ~6% warmup (similar to original)\n",
    "#     # Evaluation and logging\n",
    "#     # eval_strategy=\"steps\",\n",
    "#     # eval_steps=100,                         # More frequent due to longer training\n",
    "#     save_strategy=\"steps\", \n",
    "#     save_steps=200,\n",
    "#     logging_steps=5,\n",
    "#     # Memory and performance\n",
    "#     fp16=True,                              # Essential for large model\n",
    "#     dataloader_pin_memory=False,            # Save memory\n",
    "#     load_best_model_at_end=False,\n",
    "#     # Monitoring\n",
    "#     report_to=None,\n",
    "#     logging_strategy=\"steps\",\n",
    "#     logging_first_step=True,\n",
    "# )\n",
    "\n",
    "# # Log training configuration\n",
    "# training_logger.log_training_args(training_args)\n",
    "\n",
    "# class TrainingMetricsCallback(TrainerCallback):\n",
    "#     def __init__(self, train_dataset, tokenizer, model, compute_every_n_steps=50):\n",
    "#         self.train_dataset = train_dataset\n",
    "#         self.tokenizer = tokenizer\n",
    "#         self.model = model\n",
    "#         self.compute_every_n_steps = compute_every_n_steps\n",
    "\n",
    "#     def on_log(self, args, state, control, model=None, logs=None, **kwargs):\n",
    "#         \"\"\"Compute training AUC every N steps\"\"\"\n",
    "#         if state.global_step % self.compute_every_n_steps == 0:\n",
    "#             # Sample a subset of training data for efficiency (optional)\n",
    "#             sample_size = min(1000, len(self.train_dataset))  # Use up to 1000 samples\n",
    "#             indices = np.random.choice(\n",
    "#                 len(self.train_dataset), sample_size, replace=False\n",
    "#             )\n",
    "#             sample_dataset = self.train_dataset.select(indices)\n",
    "\n",
    "#             # Get predictions on training sample\n",
    "#             model.eval()\n",
    "#             all_logits = []\n",
    "#             all_labels = []\n",
    "\n",
    "#             # Process in batches to avoid memory issues\n",
    "#             batch_size = 32\n",
    "#             for i in range(0, len(sample_dataset), batch_size):\n",
    "#                 batch = sample_dataset[i : i + batch_size]\n",
    "\n",
    "#                 # Prepare inputs\n",
    "#                 inputs = {\n",
    "#                     \"input_ids\": batch[\"input_ids\"].clone().detach().to(model.device),\n",
    "#                     \"attention_mask\": batch[\"attention_mask\"].clone().detach().to(\n",
    "#                         model.device\n",
    "#                     ),\n",
    "#                 }\n",
    "\n",
    "#                 with torch.no_grad():\n",
    "#                     outputs = model(**inputs)\n",
    "#                     logits = outputs.logits.cpu().numpy()\n",
    "#                     all_logits.append(logits)\n",
    "#                     all_labels.extend(batch[\"labels\"])\n",
    "\n",
    "#             # Combine all predictions\n",
    "#             all_logits = np.vstack(all_logits)\n",
    "#             all_labels = np.array(all_labels)\n",
    "\n",
    "#             # Compute AUC using your existing function\n",
    "#             # eval_pred = type(\n",
    "#             #     \"EvalPred\", (), {\"predictions\": all_logits, \"label_ids\": all_labels}\n",
    "#             # )()\n",
    "#             metrics = compute_column_auc((all_logits, all_labels))\n",
    "\n",
    "#             # Log the training AUC\n",
    "#             if \"auc\" in metrics:\n",
    "#                 eval_metrics = {\n",
    "#                     \"step\":state.global_step, \n",
    "#                     \"auc\": metrics['auc'], \n",
    "#                     \"loss\": logs.get('loss', 0), \n",
    "#                     \"LR\": logs.get('learning_rate', 0)\n",
    "#                 }\n",
    "#                 training_logger.log_metrics(eval_metrics, \"Validation\")\n",
    "\n",
    "#             model.train()  # Switch back to training mode\n",
    "\n",
    "\n",
    "# # Updated trainer configuration\n",
    "# trainer = Trainer(\n",
    "#     model=model,\n",
    "#     args=training_args,\n",
    "#     train_dataset=tokenized_train,\n",
    "#     eval_dataset=tokenized_test,\n",
    "#     processing_class=tokenizer,\n",
    "#     data_collator=data_collator,\n",
    "#     compute_metrics=compute,\n",
    "#     callbacks=[\n",
    "#         TrainingMetricsCallback(\n",
    "#             full_dataset, tokenizer, model, compute_every_n_steps=5\n",
    "#         )\n",
    "#     ],\n",
    "# )"
   ]
  },
  {
   "cell_type": "code",
   "execution_count": 45,
   "id": "c147cff8",
   "metadata": {
    "execution": {
     "iopub.execute_input": "2025-08-03T08:10:50.718641Z",
     "iopub.status.busy": "2025-08-03T08:10:50.718464Z",
     "iopub.status.idle": "2025-08-03T08:10:50.721166Z",
     "shell.execute_reply": "2025-08-03T08:10:50.720600Z"
    },
    "papermill": {
     "duration": 0.01492,
     "end_time": "2025-08-03T08:10:50.722150",
     "exception": false,
     "start_time": "2025-08-03T08:10:50.707230",
     "status": "completed"
    },
    "tags": []
   },
   "outputs": [],
   "source": [
    "# trainer.train()"
   ]
  },
  {
   "cell_type": "markdown",
   "id": "0e67dd18",
   "metadata": {
    "papermill": {
     "duration": 0.009793,
     "end_time": "2025-08-03T08:10:50.741988",
     "exception": false,
     "start_time": "2025-08-03T08:10:50.732195",
     "status": "completed"
    },
    "tags": []
   },
   "source": [
    "# make predictions"
   ]
  },
  {
   "cell_type": "code",
   "execution_count": 46,
   "id": "449e200e",
   "metadata": {
    "execution": {
     "iopub.execute_input": "2025-08-03T08:10:50.763197Z",
     "iopub.status.busy": "2025-08-03T08:10:50.762946Z",
     "iopub.status.idle": "2025-08-03T08:10:51.157855Z",
     "shell.execute_reply": "2025-08-03T08:10:51.157162Z"
    },
    "papermill": {
     "duration": 0.407068,
     "end_time": "2025-08-03T08:10:51.159144",
     "exception": false,
     "start_time": "2025-08-03T08:10:50.752076",
     "status": "completed"
    },
    "tags": []
   },
   "outputs": [
    {
     "name": "stdout",
     "output_type": "stream",
     "text": [
      "2025-08-03 08:10:50 | reddit_moderation | INFO | Starting test data processing and prediction pipeline\n",
      "2025-08-03 08:10:50 | reddit_moderation | INFO | Loading test dataset\n",
      "2025-08-03 08:10:50 | reddit_moderation | INFO | Test data loaded: 10 rows, 8 columns\n",
      "2025-08-03 08:10:50 | reddit_moderation | INFO | Starting comment sanitization for all text columns\n",
      "2025-08-03 08:10:50 | reddit_moderation | INFO | Comment sanitization completed for all columns\n",
      "2025-08-03 08:10:50 | reddit_moderation | INFO | Creating prompts for test data\n"
     ]
    },
    {
     "data": {
      "application/vnd.jupyter.widget-view+json": {
       "model_id": "5576fa014e554e11ad9688c8d49ee9c9",
       "version_major": 2,
       "version_minor": 0
      },
      "text/plain": [
       "Map:   0%|          | 0/10 [00:00<?, ? examples/s]"
      ]
     },
     "metadata": {},
     "output_type": "display_data"
    },
    {
     "name": "stdout",
     "output_type": "stream",
     "text": [
      "2025-08-03 08:10:50 | reddit_moderation | INFO | Starting tokenization of test data\n"
     ]
    },
    {
     "data": {
      "application/vnd.jupyter.widget-view+json": {
       "model_id": "1627404930b747e9a366f4a4f822a21e",
       "version_major": 2,
       "version_minor": 0
      },
      "text/plain": [
       "Map:   0%|          | 0/10 [00:00<?, ? examples/s]"
      ]
     },
     "metadata": {},
     "output_type": "display_data"
    },
    {
     "name": "stdout",
     "output_type": "stream",
     "text": [
      "2025-08-03 08:10:50 | reddit_moderation | INFO | Tokenization completed: 10 samples\n",
      "2025-08-03 08:10:50 | reddit_moderation | INFO | Starting model predictions on test data\n",
      "2025-08-03 08:10:51 | reddit_moderation | INFO | Predictions generated: shape (10, 2)\n",
      "2025-08-03 08:10:51 | reddit_moderation | INFO | Probabilities computed: 10 samples\n",
      "2025-08-03 08:10:51 | reddit_moderation | INFO | Creating submission DataFrame\n",
      "2025-08-03 08:10:51 | reddit_moderation | INFO | Submission DataFrame created: 10 rows\n",
      "2025-08-03 08:10:51 | reddit_moderation | INFO | Saving submission to CSV file\n",
      "2025-08-03 08:10:51 | reddit_moderation | INFO | Submission file 'submission.csv' saved successfully\n",
      "2025-08-03 08:10:51 | reddit_moderation | INFO | Displaying sample submission results:\n",
      "2025-08-03 08:10:51 | reddit_moderation | INFO |   Row ID 2029.0: Violation probability = 0.0785\n",
      "2025-08-03 08:10:51 | reddit_moderation | INFO |   Row ID 2030.0: Violation probability = 0.8924\n",
      "2025-08-03 08:10:51 | reddit_moderation | INFO |   Row ID 2031.0: Violation probability = 0.6982\n",
      "2025-08-03 08:10:51 | reddit_moderation | INFO |   Row ID 2032.0: Violation probability = 0.8487\n",
      "2025-08-03 08:10:51 | reddit_moderation | INFO |   Row ID 2033.0: Violation probability = 0.9522\n",
      "2025-08-03 08:10:51 | reddit_moderation | INFO | Test data processing and prediction pipeline completed successfully\n",
      "2025-08-03 08:10:51 | reddit_moderation | INFO | === PREDICTION SUMMARY ===\n",
      "2025-08-03 08:10:51 | reddit_moderation | INFO | Total test samples processed: 10\n",
      "2025-08-03 08:10:51 | reddit_moderation | INFO | High confidence violations (>0.8): 5\n",
      "2025-08-03 08:10:51 | reddit_moderation | INFO | Medium confidence violations (0.5-0.8): 1\n",
      "2025-08-03 08:10:51 | reddit_moderation | INFO | Low violations (<0.5): 4\n",
      "2025-08-03 08:10:51 | reddit_moderation | INFO | === END SUMMARY ===\n"
     ]
    },
    {
     "data": {
      "text/html": [
       "<div>\n",
       "<style scoped>\n",
       "    .dataframe tbody tr th:only-of-type {\n",
       "        vertical-align: middle;\n",
       "    }\n",
       "\n",
       "    .dataframe tbody tr th {\n",
       "        vertical-align: top;\n",
       "    }\n",
       "\n",
       "    .dataframe thead th {\n",
       "        text-align: right;\n",
       "    }\n",
       "</style>\n",
       "<table border=\"1\" class=\"dataframe\">\n",
       "  <thead>\n",
       "    <tr style=\"text-align: right;\">\n",
       "      <th></th>\n",
       "      <th>row_id</th>\n",
       "      <th>rule_violation</th>\n",
       "    </tr>\n",
       "  </thead>\n",
       "  <tbody>\n",
       "    <tr>\n",
       "      <th>0</th>\n",
       "      <td>2029</td>\n",
       "      <td>0.078531</td>\n",
       "    </tr>\n",
       "    <tr>\n",
       "      <th>1</th>\n",
       "      <td>2030</td>\n",
       "      <td>0.892439</td>\n",
       "    </tr>\n",
       "    <tr>\n",
       "      <th>2</th>\n",
       "      <td>2031</td>\n",
       "      <td>0.698156</td>\n",
       "    </tr>\n",
       "    <tr>\n",
       "      <th>3</th>\n",
       "      <td>2032</td>\n",
       "      <td>0.848662</td>\n",
       "    </tr>\n",
       "    <tr>\n",
       "      <th>4</th>\n",
       "      <td>2033</td>\n",
       "      <td>0.952184</td>\n",
       "    </tr>\n",
       "  </tbody>\n",
       "</table>\n",
       "</div>"
      ],
      "text/plain": [
       "   row_id  rule_violation\n",
       "0    2029        0.078531\n",
       "1    2030        0.892439\n",
       "2    2031        0.698156\n",
       "3    2032        0.848662\n",
       "4    2033        0.952184"
      ]
     },
     "execution_count": 46,
     "metadata": {},
     "output_type": "execute_result"
    }
   ],
   "source": [
    "logger.info(\"Starting test data processing and prediction pipeline\")\n",
    "\n",
    "# Load test data\n",
    "logger.info(\"Loading test dataset\")\n",
    "test = pd.read_csv(os.path.join(INPUT_PATH, \"jigsaw-agile-community-rules\", \"test.csv\"))\n",
    "logger.info(f\"Test data loaded: {len(test)} rows, {len(test.columns)} columns\")\n",
    "\n",
    "# Sanitize comments\n",
    "logger.info(\"Starting comment sanitization for all text columns\")\n",
    "for c in [\n",
    "    \"body\",\n",
    "    \"rule\",\n",
    "    \"subreddit\",\n",
    "    \"positive_example_1\",\n",
    "    \"positive_example_2\",\n",
    "    \"negative_example_1\",\n",
    "    \"negative_example_2\",\n",
    "]:\n",
    "    logger.debug(f\"Sanitizing column: {c}\")\n",
    "    test[c] = test[c].apply(sanitize_comment)\n",
    "logger.info(\"Comment sanitization completed for all columns\")\n",
    "\n",
    "# Convert to HuggingFace Dataset\n",
    "logger.debug(\"Converting pandas DataFrame to HuggingFace Dataset\")\n",
    "test = Dataset.from_pandas(test)\n",
    "logger.debug(f\"Dataset created with columns: {test.column_names}\")\n",
    "\n",
    "# Rename body column\n",
    "logger.debug(\"Renaming 'body' column to 'comment'\")\n",
    "test = test.rename_column(\"body\", \"comment\")\n",
    "\n",
    "# # Add classification predictions\n",
    "# logger.info(\"Starting rule and subreddit classification prediction\")\n",
    "# logger.debug(f\"Using existing rule_lookup with {len(rule_lookup)} entries\")\n",
    "# logger.debug(f\"Using existing subreddit_lookup with {len(subreddit_lookup)} entries\")\n",
    "\n",
    "# test, rule_lookup, subreddit_lookup = add_classification_preds_rule_subreddit(\n",
    "#     test, rule_lookup=rule_lookup, subreddit_lookup=subreddit_lookup\n",
    "# )\n",
    "# logger.info(\"Classification predictions added successfully\")\n",
    "# logger.debug(f\"Test dataset now has columns: {test.column_names}\")\n",
    "\n",
    "# Create prompts\n",
    "logger.info(\"Creating prompts for test data\")\n",
    "test = test.map(_make_prompt)\n",
    "logger.debug(f\"Prompts created, sample prompt length: {len(test[0]['text']) if 'text' in test.column_names else 'N/A'}\")\n",
    "\n",
    "# Tokenize test data\n",
    "logger.info(\"Starting tokenization of test data\")\n",
    "tokenized_test = test.map(preprocess_, batched=True, batch_size=128)\n",
    "logger.info(f\"Tokenization completed: {len(tokenized_test)} samples\")\n",
    "logger.debug(f\"Tokenized dataset columns: {tokenized_test.column_names}\")\n",
    "\n",
    "# Set format for PyTorch\n",
    "logger.debug(\"Setting PyTorch tensor format\")\n",
    "columns = [\"input_ids\", \"attention_mask\"]\n",
    "tokenized_test.set_format(type=\"torch\", columns=columns)\n",
    "logger.debug(f\"Tensor format set for columns: {columns}\")\n",
    "\n",
    "# Generate predictions\n",
    "logger.info(\"Starting model predictions on test data\")\n",
    "logger.debug(f\"Using trainer with model: {type(trainer.model).__name__}\")\n",
    "predictions = trainer.predict(tokenized_test).predictions\n",
    "logger.info(f\"Predictions generated: shape {predictions.shape}\")\n",
    "logger.debug(f\"Prediction range: [{predictions.min():.4f}, {predictions.max():.4f}]\")\n",
    "\n",
    "# Convert to probabilities\n",
    "logger.debug(\"Converting logits to probabilities using softmax\")\n",
    "probs = softmax(predictions, axis=1)[:, 1]  # Get violation probabilities\n",
    "logger.info(f\"Probabilities computed: {len(probs)} samples\")\n",
    "logger.debug(f\"Probability range: [{probs.min():.4f}, {probs.max():.4f}]\")\n",
    "logger.debug(f\"Mean probability: {probs.mean():.4f}\")\n",
    "\n",
    "# Create submission file\n",
    "logger.info(\"Creating submission DataFrame\")\n",
    "sub = pd.DataFrame({\"row_id\": test[\"row_id\"], \"rule_violation\": probs})\n",
    "logger.info(f\"Submission DataFrame created: {len(sub)} rows\")\n",
    "logger.debug(f\"Row ID range: {sub['row_id'].min()} to {sub['row_id'].max()}\")\n",
    "\n",
    "# Save submission\n",
    "logger.info(\"Saving submission to CSV file\")\n",
    "sub.to_csv(\"submission.csv\", index=False)\n",
    "logger.info(\"Submission file 'submission.csv' saved successfully\")\n",
    "\n",
    "# Display sample results\n",
    "logger.info(\"Displaying sample submission results:\")\n",
    "sample_results = sub.head()\n",
    "for idx, row in sample_results.iterrows():\n",
    "    logger.info(f\"  Row ID {row['row_id']}: Violation probability = {row['rule_violation']:.4f}\")\n",
    "\n",
    "logger.info(\"Test data processing and prediction pipeline completed successfully\")\n",
    "\n",
    "# Optional: Log summary statistics\n",
    "logger.info(\"=== PREDICTION SUMMARY ===\")\n",
    "logger.info(f\"Total test samples processed: {len(sub)}\")\n",
    "logger.info(f\"High confidence violations (>0.8): {(probs > 0.8).sum()}\")\n",
    "logger.info(f\"Medium confidence violations (0.5-0.8): {((probs > 0.5) & (probs <= 0.8)).sum()}\")\n",
    "logger.info(f\"Low violations (<0.5): {(probs <= 0.5).sum()}\")\n",
    "logger.info(\"=== END SUMMARY ===\")\n",
    "\n",
    "sub.head()"
   ]
  }
 ],
 "metadata": {
  "kaggle": {
   "accelerator": "nvidiaTeslaT4",
   "dataSources": [
    {
     "databundleVersionId": 13121456,
     "sourceId": 94635,
     "sourceType": "competition"
    },
    {
     "datasetId": 7952621,
     "sourceId": 12591344,
     "sourceType": "datasetVersion"
    },
    {
     "modelId": 314773,
     "modelInstanceId": 294154,
     "sourceId": 352617,
     "sourceType": "modelInstanceVersion"
    },
    {
     "modelId": 409899,
     "modelInstanceId": 391151,
     "sourceId": 492151,
     "sourceType": "modelInstanceVersion"
    },
    {
     "modelId": 409912,
     "modelInstanceId": 391165,
     "sourceId": 492166,
     "sourceType": "modelInstanceVersion"
    },
    {
     "modelId": 410083,
     "modelInstanceId": 391346,
     "sourceId": 492382,
     "sourceType": "modelInstanceVersion"
    }
   ],
   "dockerImageVersionId": 31089,
   "isGpuEnabled": true,
   "isInternetEnabled": false,
   "language": "python",
   "sourceType": "notebook"
  },
  "kernelspec": {
   "display_name": "Python 3",
   "language": "python",
   "name": "python3"
  },
  "language_info": {
   "codemirror_mode": {
    "name": "ipython",
    "version": 3
   },
   "file_extension": ".py",
   "mimetype": "text/x-python",
   "name": "python",
   "nbconvert_exporter": "python",
   "pygments_lexer": "ipython3",
   "version": "3.11.13"
  },
  "papermill": {
   "default_parameters": {},
   "duration": 1487.366597,
   "end_time": "2025-08-03T08:10:54.174132",
   "environment_variables": {},
   "exception": null,
   "input_path": "__notebook__.ipynb",
   "output_path": "__notebook__.ipynb",
   "parameters": {},
   "start_time": "2025-08-03T07:46:06.807535",
   "version": "2.6.0"
  },
  "widgets": {
   "application/vnd.jupyter.widget-state+json": {
    "state": {
     "0e1d593bf8724a1cac18efcabf237158": {
      "model_module": "@jupyter-widgets/base",
      "model_module_version": "2.0.0",
      "model_name": "LayoutModel",
      "state": {
       "_model_module": "@jupyter-widgets/base",
       "_model_module_version": "2.0.0",
       "_model_name": "LayoutModel",
       "_view_count": null,
       "_view_module": "@jupyter-widgets/base",
       "_view_module_version": "2.0.0",
       "_view_name": "LayoutView",
       "align_content": null,
       "align_items": null,
       "align_self": null,
       "border_bottom": null,
       "border_left": null,
       "border_right": null,
       "border_top": null,
       "bottom": null,
       "display": null,
       "flex": null,
       "flex_flow": null,
       "grid_area": null,
       "grid_auto_columns": null,
       "grid_auto_flow": null,
       "grid_auto_rows": null,
       "grid_column": null,
       "grid_gap": null,
       "grid_row": null,
       "grid_template_areas": null,
       "grid_template_columns": null,
       "grid_template_rows": null,
       "height": null,
       "justify_content": null,
       "justify_items": null,
       "left": null,
       "margin": null,
       "max_height": null,
       "max_width": null,
       "min_height": null,
       "min_width": null,
       "object_fit": null,
       "object_position": null,
       "order": null,
       "overflow": null,
       "padding": null,
       "right": null,
       "top": null,
       "visibility": null,
       "width": null
      }
     },
     "1627404930b747e9a366f4a4f822a21e": {
      "model_module": "@jupyter-widgets/controls",
      "model_module_version": "2.0.0",
      "model_name": "HBoxModel",
      "state": {
       "_dom_classes": [],
       "_model_module": "@jupyter-widgets/controls",
       "_model_module_version": "2.0.0",
       "_model_name": "HBoxModel",
       "_view_count": null,
       "_view_module": "@jupyter-widgets/controls",
       "_view_module_version": "2.0.0",
       "_view_name": "HBoxView",
       "box_style": "",
       "children": [
        "IPY_MODEL_3c8ffe5ea656425199bcf52d8056e6d8",
        "IPY_MODEL_d09dbf3b1b5949b2ab48f559a93b20ea",
        "IPY_MODEL_ff0861385a1e44e58dd6da74692ded17"
       ],
       "layout": "IPY_MODEL_3c1b89ba506c4fb7b093b64b637ea20f",
       "tabbable": null,
       "tooltip": null
      }
     },
     "193f39213aa74e1facf840bef7088c69": {
      "model_module": "@jupyter-widgets/controls",
      "model_module_version": "2.0.0",
      "model_name": "ProgressStyleModel",
      "state": {
       "_model_module": "@jupyter-widgets/controls",
       "_model_module_version": "2.0.0",
       "_model_name": "ProgressStyleModel",
       "_view_count": null,
       "_view_module": "@jupyter-widgets/base",
       "_view_module_version": "2.0.0",
       "_view_name": "StyleView",
       "bar_color": null,
       "description_width": ""
      }
     },
     "2889d710df6a442f873c3a5c631a2ca2": {
      "model_module": "@jupyter-widgets/controls",
      "model_module_version": "2.0.0",
      "model_name": "HTMLStyleModel",
      "state": {
       "_model_module": "@jupyter-widgets/controls",
       "_model_module_version": "2.0.0",
       "_model_name": "HTMLStyleModel",
       "_view_count": null,
       "_view_module": "@jupyter-widgets/base",
       "_view_module_version": "2.0.0",
       "_view_name": "StyleView",
       "background": null,
       "description_width": "",
       "font_size": null,
       "text_color": null
      }
     },
     "299a338493264749a35479040240653c": {
      "model_module": "@jupyter-widgets/controls",
      "model_module_version": "2.0.0",
      "model_name": "HTMLModel",
      "state": {
       "_dom_classes": [],
       "_model_module": "@jupyter-widgets/controls",
       "_model_module_version": "2.0.0",
       "_model_name": "HTMLModel",
       "_view_count": null,
       "_view_module": "@jupyter-widgets/controls",
       "_view_module_version": "2.0.0",
       "_view_name": "HTMLView",
       "description": "",
       "description_allow_html": false,
       "layout": "IPY_MODEL_3dc3b6c6a6464112afbb09d40c5590a9",
       "placeholder": "​",
       "style": "IPY_MODEL_d6cbd3ba147347ff8d7d2d835e7feb38",
       "tabbable": null,
       "tooltip": null,
       "value": " 2547/2547 [00:00&lt;00:00, 2879.80 examples/s]"
      }
     },
     "2ad5dedf85864e0995f982063ab35ca6": {
      "model_module": "@jupyter-widgets/controls",
      "model_module_version": "2.0.0",
      "model_name": "HTMLStyleModel",
      "state": {
       "_model_module": "@jupyter-widgets/controls",
       "_model_module_version": "2.0.0",
       "_model_name": "HTMLStyleModel",
       "_view_count": null,
       "_view_module": "@jupyter-widgets/base",
       "_view_module_version": "2.0.0",
       "_view_name": "StyleView",
       "background": null,
       "description_width": "",
       "font_size": null,
       "text_color": null
      }
     },
     "2b14b6bb61864c669d3cca76a1e632f0": {
      "model_module": "@jupyter-widgets/controls",
      "model_module_version": "2.0.0",
      "model_name": "FloatProgressModel",
      "state": {
       "_dom_classes": [],
       "_model_module": "@jupyter-widgets/controls",
       "_model_module_version": "2.0.0",
       "_model_name": "FloatProgressModel",
       "_view_count": null,
       "_view_module": "@jupyter-widgets/controls",
       "_view_module_version": "2.0.0",
       "_view_name": "ProgressView",
       "bar_style": "success",
       "description": "",
       "description_allow_html": false,
       "layout": "IPY_MODEL_374f43cf5f5c410a894a8270027f5821",
       "max": 7638.0,
       "min": 0.0,
       "orientation": "horizontal",
       "style": "IPY_MODEL_fbf2a650617b4d1b893c88fe7e9391dc",
       "tabbable": null,
       "tooltip": null,
       "value": 7638.0
      }
     },
     "2f60b05a513143109ffa27d516488320": {
      "model_module": "@jupyter-widgets/controls",
      "model_module_version": "2.0.0",
      "model_name": "HTMLStyleModel",
      "state": {
       "_model_module": "@jupyter-widgets/controls",
       "_model_module_version": "2.0.0",
       "_model_name": "HTMLStyleModel",
       "_view_count": null,
       "_view_module": "@jupyter-widgets/base",
       "_view_module_version": "2.0.0",
       "_view_name": "StyleView",
       "background": null,
       "description_width": "",
       "font_size": null,
       "text_color": null
      }
     },
     "31fc01b14846450b89c9e5df0e08c8e0": {
      "model_module": "@jupyter-widgets/base",
      "model_module_version": "2.0.0",
      "model_name": "LayoutModel",
      "state": {
       "_model_module": "@jupyter-widgets/base",
       "_model_module_version": "2.0.0",
       "_model_name": "LayoutModel",
       "_view_count": null,
       "_view_module": "@jupyter-widgets/base",
       "_view_module_version": "2.0.0",
       "_view_name": "LayoutView",
       "align_content": null,
       "align_items": null,
       "align_self": null,
       "border_bottom": null,
       "border_left": null,
       "border_right": null,
       "border_top": null,
       "bottom": null,
       "display": null,
       "flex": null,
       "flex_flow": null,
       "grid_area": null,
       "grid_auto_columns": null,
       "grid_auto_flow": null,
       "grid_auto_rows": null,
       "grid_column": null,
       "grid_gap": null,
       "grid_row": null,
       "grid_template_areas": null,
       "grid_template_columns": null,
       "grid_template_rows": null,
       "height": null,
       "justify_content": null,
       "justify_items": null,
       "left": null,
       "margin": null,
       "max_height": null,
       "max_width": null,
       "min_height": null,
       "min_width": null,
       "object_fit": null,
       "object_position": null,
       "order": null,
       "overflow": null,
       "padding": null,
       "right": null,
       "top": null,
       "visibility": null,
       "width": null
      }
     },
     "364b978a85b046568946275d36edd82b": {
      "model_module": "@jupyter-widgets/base",
      "model_module_version": "2.0.0",
      "model_name": "LayoutModel",
      "state": {
       "_model_module": "@jupyter-widgets/base",
       "_model_module_version": "2.0.0",
       "_model_name": "LayoutModel",
       "_view_count": null,
       "_view_module": "@jupyter-widgets/base",
       "_view_module_version": "2.0.0",
       "_view_name": "LayoutView",
       "align_content": null,
       "align_items": null,
       "align_self": null,
       "border_bottom": null,
       "border_left": null,
       "border_right": null,
       "border_top": null,
       "bottom": null,
       "display": null,
       "flex": null,
       "flex_flow": null,
       "grid_area": null,
       "grid_auto_columns": null,
       "grid_auto_flow": null,
       "grid_auto_rows": null,
       "grid_column": null,
       "grid_gap": null,
       "grid_row": null,
       "grid_template_areas": null,
       "grid_template_columns": null,
       "grid_template_rows": null,
       "height": null,
       "justify_content": null,
       "justify_items": null,
       "left": null,
       "margin": null,
       "max_height": null,
       "max_width": null,
       "min_height": null,
       "min_width": null,
       "object_fit": null,
       "object_position": null,
       "order": null,
       "overflow": null,
       "padding": null,
       "right": null,
       "top": null,
       "visibility": null,
       "width": null
      }
     },
     "374f43cf5f5c410a894a8270027f5821": {
      "model_module": "@jupyter-widgets/base",
      "model_module_version": "2.0.0",
      "model_name": "LayoutModel",
      "state": {
       "_model_module": "@jupyter-widgets/base",
       "_model_module_version": "2.0.0",
       "_model_name": "LayoutModel",
       "_view_count": null,
       "_view_module": "@jupyter-widgets/base",
       "_view_module_version": "2.0.0",
       "_view_name": "LayoutView",
       "align_content": null,
       "align_items": null,
       "align_self": null,
       "border_bottom": null,
       "border_left": null,
       "border_right": null,
       "border_top": null,
       "bottom": null,
       "display": null,
       "flex": null,
       "flex_flow": null,
       "grid_area": null,
       "grid_auto_columns": null,
       "grid_auto_flow": null,
       "grid_auto_rows": null,
       "grid_column": null,
       "grid_gap": null,
       "grid_row": null,
       "grid_template_areas": null,
       "grid_template_columns": null,
       "grid_template_rows": null,
       "height": null,
       "justify_content": null,
       "justify_items": null,
       "left": null,
       "margin": null,
       "max_height": null,
       "max_width": null,
       "min_height": null,
       "min_width": null,
       "object_fit": null,
       "object_position": null,
       "order": null,
       "overflow": null,
       "padding": null,
       "right": null,
       "top": null,
       "visibility": null,
       "width": null
      }
     },
     "3c1b89ba506c4fb7b093b64b637ea20f": {
      "model_module": "@jupyter-widgets/base",
      "model_module_version": "2.0.0",
      "model_name": "LayoutModel",
      "state": {
       "_model_module": "@jupyter-widgets/base",
       "_model_module_version": "2.0.0",
       "_model_name": "LayoutModel",
       "_view_count": null,
       "_view_module": "@jupyter-widgets/base",
       "_view_module_version": "2.0.0",
       "_view_name": "LayoutView",
       "align_content": null,
       "align_items": null,
       "align_self": null,
       "border_bottom": null,
       "border_left": null,
       "border_right": null,
       "border_top": null,
       "bottom": null,
       "display": null,
       "flex": null,
       "flex_flow": null,
       "grid_area": null,
       "grid_auto_columns": null,
       "grid_auto_flow": null,
       "grid_auto_rows": null,
       "grid_column": null,
       "grid_gap": null,
       "grid_row": null,
       "grid_template_areas": null,
       "grid_template_columns": null,
       "grid_template_rows": null,
       "height": null,
       "justify_content": null,
       "justify_items": null,
       "left": null,
       "margin": null,
       "max_height": null,
       "max_width": null,
       "min_height": null,
       "min_width": null,
       "object_fit": null,
       "object_position": null,
       "order": null,
       "overflow": null,
       "padding": null,
       "right": null,
       "top": null,
       "visibility": null,
       "width": null
      }
     },
     "3c8ffe5ea656425199bcf52d8056e6d8": {
      "model_module": "@jupyter-widgets/controls",
      "model_module_version": "2.0.0",
      "model_name": "HTMLModel",
      "state": {
       "_dom_classes": [],
       "_model_module": "@jupyter-widgets/controls",
       "_model_module_version": "2.0.0",
       "_model_name": "HTMLModel",
       "_view_count": null,
       "_view_module": "@jupyter-widgets/controls",
       "_view_module_version": "2.0.0",
       "_view_name": "HTMLView",
       "description": "",
       "description_allow_html": false,
       "layout": "IPY_MODEL_821223da19b44a6ebe3ba5da876bd897",
       "placeholder": "​",
       "style": "IPY_MODEL_4b995c4e34a64252a0ecaaa36ccc5df3",
       "tabbable": null,
       "tooltip": null,
       "value": "Map: 100%"
      }
     },
     "3dc3b6c6a6464112afbb09d40c5590a9": {
      "model_module": "@jupyter-widgets/base",
      "model_module_version": "2.0.0",
      "model_name": "LayoutModel",
      "state": {
       "_model_module": "@jupyter-widgets/base",
       "_model_module_version": "2.0.0",
       "_model_name": "LayoutModel",
       "_view_count": null,
       "_view_module": "@jupyter-widgets/base",
       "_view_module_version": "2.0.0",
       "_view_name": "LayoutView",
       "align_content": null,
       "align_items": null,
       "align_self": null,
       "border_bottom": null,
       "border_left": null,
       "border_right": null,
       "border_top": null,
       "bottom": null,
       "display": null,
       "flex": null,
       "flex_flow": null,
       "grid_area": null,
       "grid_auto_columns": null,
       "grid_auto_flow": null,
       "grid_auto_rows": null,
       "grid_column": null,
       "grid_gap": null,
       "grid_row": null,
       "grid_template_areas": null,
       "grid_template_columns": null,
       "grid_template_rows": null,
       "height": null,
       "justify_content": null,
       "justify_items": null,
       "left": null,
       "margin": null,
       "max_height": null,
       "max_width": null,
       "min_height": null,
       "min_width": null,
       "object_fit": null,
       "object_position": null,
       "order": null,
       "overflow": null,
       "padding": null,
       "right": null,
       "top": null,
       "visibility": null,
       "width": null
      }
     },
     "4b995c4e34a64252a0ecaaa36ccc5df3": {
      "model_module": "@jupyter-widgets/controls",
      "model_module_version": "2.0.0",
      "model_name": "HTMLStyleModel",
      "state": {
       "_model_module": "@jupyter-widgets/controls",
       "_model_module_version": "2.0.0",
       "_model_name": "HTMLStyleModel",
       "_view_count": null,
       "_view_module": "@jupyter-widgets/base",
       "_view_module_version": "2.0.0",
       "_view_name": "StyleView",
       "background": null,
       "description_width": "",
       "font_size": null,
       "text_color": null
      }
     },
     "5576fa014e554e11ad9688c8d49ee9c9": {
      "model_module": "@jupyter-widgets/controls",
      "model_module_version": "2.0.0",
      "model_name": "HBoxModel",
      "state": {
       "_dom_classes": [],
       "_model_module": "@jupyter-widgets/controls",
       "_model_module_version": "2.0.0",
       "_model_name": "HBoxModel",
       "_view_count": null,
       "_view_module": "@jupyter-widgets/controls",
       "_view_module_version": "2.0.0",
       "_view_name": "HBoxView",
       "box_style": "",
       "children": [
        "IPY_MODEL_d0227ea654174c2e90a40a4174bcb40b",
        "IPY_MODEL_dfdb6e7e55bd43008349daffd56e6b95",
        "IPY_MODEL_d765b79182674fefaed5836a94c59c92"
       ],
       "layout": "IPY_MODEL_79ffeb60e28d495b97a887d9571d0be0",
       "tabbable": null,
       "tooltip": null
      }
     },
     "5598b47ca6b54a3795f0f10374a60366": {
      "model_module": "@jupyter-widgets/controls",
      "model_module_version": "2.0.0",
      "model_name": "HTMLStyleModel",
      "state": {
       "_model_module": "@jupyter-widgets/controls",
       "_model_module_version": "2.0.0",
       "_model_name": "HTMLStyleModel",
       "_view_count": null,
       "_view_module": "@jupyter-widgets/base",
       "_view_module_version": "2.0.0",
       "_view_name": "StyleView",
       "background": null,
       "description_width": "",
       "font_size": null,
       "text_color": null
      }
     },
     "590399b337cd42b79764f80dbb258a15": {
      "model_module": "@jupyter-widgets/controls",
      "model_module_version": "2.0.0",
      "model_name": "HTMLStyleModel",
      "state": {
       "_model_module": "@jupyter-widgets/controls",
       "_model_module_version": "2.0.0",
       "_model_name": "HTMLStyleModel",
       "_view_count": null,
       "_view_module": "@jupyter-widgets/base",
       "_view_module_version": "2.0.0",
       "_view_name": "StyleView",
       "background": null,
       "description_width": "",
       "font_size": null,
       "text_color": null
      }
     },
     "674157604e0342b5ade9b96053fabdaa": {
      "model_module": "@jupyter-widgets/base",
      "model_module_version": "2.0.0",
      "model_name": "LayoutModel",
      "state": {
       "_model_module": "@jupyter-widgets/base",
       "_model_module_version": "2.0.0",
       "_model_name": "LayoutModel",
       "_view_count": null,
       "_view_module": "@jupyter-widgets/base",
       "_view_module_version": "2.0.0",
       "_view_name": "LayoutView",
       "align_content": null,
       "align_items": null,
       "align_self": null,
       "border_bottom": null,
       "border_left": null,
       "border_right": null,
       "border_top": null,
       "bottom": null,
       "display": null,
       "flex": null,
       "flex_flow": null,
       "grid_area": null,
       "grid_auto_columns": null,
       "grid_auto_flow": null,
       "grid_auto_rows": null,
       "grid_column": null,
       "grid_gap": null,
       "grid_row": null,
       "grid_template_areas": null,
       "grid_template_columns": null,
       "grid_template_rows": null,
       "height": null,
       "justify_content": null,
       "justify_items": null,
       "left": null,
       "margin": null,
       "max_height": null,
       "max_width": null,
       "min_height": null,
       "min_width": null,
       "object_fit": null,
       "object_position": null,
       "order": null,
       "overflow": null,
       "padding": null,
       "right": null,
       "top": null,
       "visibility": null,
       "width": null
      }
     },
     "67a871afc50447c1b988d26be82a4c6f": {
      "model_module": "@jupyter-widgets/controls",
      "model_module_version": "2.0.0",
      "model_name": "HBoxModel",
      "state": {
       "_dom_classes": [],
       "_model_module": "@jupyter-widgets/controls",
       "_model_module_version": "2.0.0",
       "_model_name": "HBoxModel",
       "_view_count": null,
       "_view_module": "@jupyter-widgets/controls",
       "_view_module_version": "2.0.0",
       "_view_name": "HBoxView",
       "box_style": "",
       "children": [
        "IPY_MODEL_deea1657057e41c798deaaece0633238",
        "IPY_MODEL_e36ce17702d848d9870a7d5a93530e5a",
        "IPY_MODEL_299a338493264749a35479040240653c"
       ],
       "layout": "IPY_MODEL_cedbfee8e1fb43d9b1f4af14fe465b96",
       "tabbable": null,
       "tooltip": null
      }
     },
     "68f564a22740402591873db6264c9d0f": {
      "model_module": "@jupyter-widgets/controls",
      "model_module_version": "2.0.0",
      "model_name": "HTMLModel",
      "state": {
       "_dom_classes": [],
       "_model_module": "@jupyter-widgets/controls",
       "_model_module_version": "2.0.0",
       "_model_name": "HTMLModel",
       "_view_count": null,
       "_view_module": "@jupyter-widgets/controls",
       "_view_module_version": "2.0.0",
       "_view_name": "HTMLView",
       "description": "",
       "description_allow_html": false,
       "layout": "IPY_MODEL_31fc01b14846450b89c9e5df0e08c8e0",
       "placeholder": "​",
       "style": "IPY_MODEL_c075df5432604419a951e7b138fdc8c2",
       "tabbable": null,
       "tooltip": null,
       "value": " 7638/7638 [00:00&lt;00:00, 10736.67 examples/s]"
      }
     },
     "6b3da581f47a413cb277cca9a6725207": {
      "model_module": "@jupyter-widgets/controls",
      "model_module_version": "2.0.0",
      "model_name": "FloatProgressModel",
      "state": {
       "_dom_classes": [],
       "_model_module": "@jupyter-widgets/controls",
       "_model_module_version": "2.0.0",
       "_model_name": "FloatProgressModel",
       "_view_count": null,
       "_view_module": "@jupyter-widgets/controls",
       "_view_module_version": "2.0.0",
       "_view_name": "ProgressView",
       "bar_style": "success",
       "description": "",
       "description_allow_html": false,
       "layout": "IPY_MODEL_d171de5079804bceb5ccb574f582ab59",
       "max": 2547.0,
       "min": 0.0,
       "orientation": "horizontal",
       "style": "IPY_MODEL_e34be02eed304d3da1a07a55acb09a5d",
       "tabbable": null,
       "tooltip": null,
       "value": 2547.0
      }
     },
     "6dd4e6f2ecf94d7b9a37dfef4b1d6f48": {
      "model_module": "@jupyter-widgets/controls",
      "model_module_version": "2.0.0",
      "model_name": "HTMLStyleModel",
      "state": {
       "_model_module": "@jupyter-widgets/controls",
       "_model_module_version": "2.0.0",
       "_model_name": "HTMLStyleModel",
       "_view_count": null,
       "_view_module": "@jupyter-widgets/base",
       "_view_module_version": "2.0.0",
       "_view_name": "StyleView",
       "background": null,
       "description_width": "",
       "font_size": null,
       "text_color": null
      }
     },
     "79ffeb60e28d495b97a887d9571d0be0": {
      "model_module": "@jupyter-widgets/base",
      "model_module_version": "2.0.0",
      "model_name": "LayoutModel",
      "state": {
       "_model_module": "@jupyter-widgets/base",
       "_model_module_version": "2.0.0",
       "_model_name": "LayoutModel",
       "_view_count": null,
       "_view_module": "@jupyter-widgets/base",
       "_view_module_version": "2.0.0",
       "_view_name": "LayoutView",
       "align_content": null,
       "align_items": null,
       "align_self": null,
       "border_bottom": null,
       "border_left": null,
       "border_right": null,
       "border_top": null,
       "bottom": null,
       "display": null,
       "flex": null,
       "flex_flow": null,
       "grid_area": null,
       "grid_auto_columns": null,
       "grid_auto_flow": null,
       "grid_auto_rows": null,
       "grid_column": null,
       "grid_gap": null,
       "grid_row": null,
       "grid_template_areas": null,
       "grid_template_columns": null,
       "grid_template_rows": null,
       "height": null,
       "justify_content": null,
       "justify_items": null,
       "left": null,
       "margin": null,
       "max_height": null,
       "max_width": null,
       "min_height": null,
       "min_width": null,
       "object_fit": null,
       "object_position": null,
       "order": null,
       "overflow": null,
       "padding": null,
       "right": null,
       "top": null,
       "visibility": null,
       "width": null
      }
     },
     "821223da19b44a6ebe3ba5da876bd897": {
      "model_module": "@jupyter-widgets/base",
      "model_module_version": "2.0.0",
      "model_name": "LayoutModel",
      "state": {
       "_model_module": "@jupyter-widgets/base",
       "_model_module_version": "2.0.0",
       "_model_name": "LayoutModel",
       "_view_count": null,
       "_view_module": "@jupyter-widgets/base",
       "_view_module_version": "2.0.0",
       "_view_name": "LayoutView",
       "align_content": null,
       "align_items": null,
       "align_self": null,
       "border_bottom": null,
       "border_left": null,
       "border_right": null,
       "border_top": null,
       "bottom": null,
       "display": null,
       "flex": null,
       "flex_flow": null,
       "grid_area": null,
       "grid_auto_columns": null,
       "grid_auto_flow": null,
       "grid_auto_rows": null,
       "grid_column": null,
       "grid_gap": null,
       "grid_row": null,
       "grid_template_areas": null,
       "grid_template_columns": null,
       "grid_template_rows": null,
       "height": null,
       "justify_content": null,
       "justify_items": null,
       "left": null,
       "margin": null,
       "max_height": null,
       "max_width": null,
       "min_height": null,
       "min_width": null,
       "object_fit": null,
       "object_position": null,
       "order": null,
       "overflow": null,
       "padding": null,
       "right": null,
       "top": null,
       "visibility": null,
       "width": null
      }
     },
     "850d954dc4474b4dadd766df6dcc8df6": {
      "model_module": "@jupyter-widgets/base",
      "model_module_version": "2.0.0",
      "model_name": "LayoutModel",
      "state": {
       "_model_module": "@jupyter-widgets/base",
       "_model_module_version": "2.0.0",
       "_model_name": "LayoutModel",
       "_view_count": null,
       "_view_module": "@jupyter-widgets/base",
       "_view_module_version": "2.0.0",
       "_view_name": "LayoutView",
       "align_content": null,
       "align_items": null,
       "align_self": null,
       "border_bottom": null,
       "border_left": null,
       "border_right": null,
       "border_top": null,
       "bottom": null,
       "display": null,
       "flex": null,
       "flex_flow": null,
       "grid_area": null,
       "grid_auto_columns": null,
       "grid_auto_flow": null,
       "grid_auto_rows": null,
       "grid_column": null,
       "grid_gap": null,
       "grid_row": null,
       "grid_template_areas": null,
       "grid_template_columns": null,
       "grid_template_rows": null,
       "height": null,
       "justify_content": null,
       "justify_items": null,
       "left": null,
       "margin": null,
       "max_height": null,
       "max_width": null,
       "min_height": null,
       "min_width": null,
       "object_fit": null,
       "object_position": null,
       "order": null,
       "overflow": null,
       "padding": null,
       "right": null,
       "top": null,
       "visibility": null,
       "width": null
      }
     },
     "8b2a4f11539149a0863e4f1ebcc5c5f9": {
      "model_module": "@jupyter-widgets/controls",
      "model_module_version": "2.0.0",
      "model_name": "HBoxModel",
      "state": {
       "_dom_classes": [],
       "_model_module": "@jupyter-widgets/controls",
       "_model_module_version": "2.0.0",
       "_model_name": "HBoxModel",
       "_view_count": null,
       "_view_module": "@jupyter-widgets/controls",
       "_view_module_version": "2.0.0",
       "_view_name": "HBoxView",
       "box_style": "",
       "children": [
        "IPY_MODEL_b0bb3bc81b214c4898a05ca854312156",
        "IPY_MODEL_c97a11fb5be040bea55f949f534c519b",
        "IPY_MODEL_68f564a22740402591873db6264c9d0f"
       ],
       "layout": "IPY_MODEL_d2bd2a04b87d4fd1801cb2f8fd1db179",
       "tabbable": null,
       "tooltip": null
      }
     },
     "8d21e12bb0774c8b8b7f66e9f923590d": {
      "model_module": "@jupyter-widgets/controls",
      "model_module_version": "2.0.0",
      "model_name": "HTMLStyleModel",
      "state": {
       "_model_module": "@jupyter-widgets/controls",
       "_model_module_version": "2.0.0",
       "_model_name": "HTMLStyleModel",
       "_view_count": null,
       "_view_module": "@jupyter-widgets/base",
       "_view_module_version": "2.0.0",
       "_view_name": "StyleView",
       "background": null,
       "description_width": "",
       "font_size": null,
       "text_color": null
      }
     },
     "911bf84a034a4a8e8246269abf39aa0c": {
      "model_module": "@jupyter-widgets/controls",
      "model_module_version": "2.0.0",
      "model_name": "ProgressStyleModel",
      "state": {
       "_model_module": "@jupyter-widgets/controls",
       "_model_module_version": "2.0.0",
       "_model_name": "ProgressStyleModel",
       "_view_count": null,
       "_view_module": "@jupyter-widgets/base",
       "_view_module_version": "2.0.0",
       "_view_name": "StyleView",
       "bar_color": null,
       "description_width": ""
      }
     },
     "945ffc8b3d2a4a0aa078df526ddc3dcb": {
      "model_module": "@jupyter-widgets/controls",
      "model_module_version": "2.0.0",
      "model_name": "HTMLStyleModel",
      "state": {
       "_model_module": "@jupyter-widgets/controls",
       "_model_module_version": "2.0.0",
       "_model_name": "HTMLStyleModel",
       "_view_count": null,
       "_view_module": "@jupyter-widgets/base",
       "_view_module_version": "2.0.0",
       "_view_name": "StyleView",
       "background": null,
       "description_width": "",
       "font_size": null,
       "text_color": null
      }
     },
     "957be45d2f40450d98fe8bd99aed9b26": {
      "model_module": "@jupyter-widgets/controls",
      "model_module_version": "2.0.0",
      "model_name": "HBoxModel",
      "state": {
       "_dom_classes": [],
       "_model_module": "@jupyter-widgets/controls",
       "_model_module_version": "2.0.0",
       "_model_name": "HBoxModel",
       "_view_count": null,
       "_view_module": "@jupyter-widgets/controls",
       "_view_module_version": "2.0.0",
       "_view_name": "HBoxView",
       "box_style": "",
       "children": [
        "IPY_MODEL_c65d9f0549744ea5a3d9550f21d72e11",
        "IPY_MODEL_6b3da581f47a413cb277cca9a6725207",
        "IPY_MODEL_fac56bb460ff4666bc38cd43288ca432"
       ],
       "layout": "IPY_MODEL_ffb01502471244cbb22d53eec2069888",
       "tabbable": null,
       "tooltip": null
      }
     },
     "a0bc1a94b901489e82ac9c1e28923dcc": {
      "model_module": "@jupyter-widgets/base",
      "model_module_version": "2.0.0",
      "model_name": "LayoutModel",
      "state": {
       "_model_module": "@jupyter-widgets/base",
       "_model_module_version": "2.0.0",
       "_model_name": "LayoutModel",
       "_view_count": null,
       "_view_module": "@jupyter-widgets/base",
       "_view_module_version": "2.0.0",
       "_view_name": "LayoutView",
       "align_content": null,
       "align_items": null,
       "align_self": null,
       "border_bottom": null,
       "border_left": null,
       "border_right": null,
       "border_top": null,
       "bottom": null,
       "display": null,
       "flex": null,
       "flex_flow": null,
       "grid_area": null,
       "grid_auto_columns": null,
       "grid_auto_flow": null,
       "grid_auto_rows": null,
       "grid_column": null,
       "grid_gap": null,
       "grid_row": null,
       "grid_template_areas": null,
       "grid_template_columns": null,
       "grid_template_rows": null,
       "height": null,
       "justify_content": null,
       "justify_items": null,
       "left": null,
       "margin": null,
       "max_height": null,
       "max_width": null,
       "min_height": null,
       "min_width": null,
       "object_fit": null,
       "object_position": null,
       "order": null,
       "overflow": null,
       "padding": null,
       "right": null,
       "top": null,
       "visibility": null,
       "width": null
      }
     },
     "a4eaaae9e1a541cab9e89d6375b2302c": {
      "model_module": "@jupyter-widgets/base",
      "model_module_version": "2.0.0",
      "model_name": "LayoutModel",
      "state": {
       "_model_module": "@jupyter-widgets/base",
       "_model_module_version": "2.0.0",
       "_model_name": "LayoutModel",
       "_view_count": null,
       "_view_module": "@jupyter-widgets/base",
       "_view_module_version": "2.0.0",
       "_view_name": "LayoutView",
       "align_content": null,
       "align_items": null,
       "align_self": null,
       "border_bottom": null,
       "border_left": null,
       "border_right": null,
       "border_top": null,
       "bottom": null,
       "display": null,
       "flex": null,
       "flex_flow": null,
       "grid_area": null,
       "grid_auto_columns": null,
       "grid_auto_flow": null,
       "grid_auto_rows": null,
       "grid_column": null,
       "grid_gap": null,
       "grid_row": null,
       "grid_template_areas": null,
       "grid_template_columns": null,
       "grid_template_rows": null,
       "height": null,
       "justify_content": null,
       "justify_items": null,
       "left": null,
       "margin": null,
       "max_height": null,
       "max_width": null,
       "min_height": null,
       "min_width": null,
       "object_fit": null,
       "object_position": null,
       "order": null,
       "overflow": null,
       "padding": null,
       "right": null,
       "top": null,
       "visibility": null,
       "width": null
      }
     },
     "a7df9c1954e84bfa9d6b9b039b579a30": {
      "model_module": "@jupyter-widgets/controls",
      "model_module_version": "2.0.0",
      "model_name": "HTMLModel",
      "state": {
       "_dom_classes": [],
       "_model_module": "@jupyter-widgets/controls",
       "_model_module_version": "2.0.0",
       "_model_name": "HTMLModel",
       "_view_count": null,
       "_view_module": "@jupyter-widgets/controls",
       "_view_module_version": "2.0.0",
       "_view_name": "HTMLView",
       "description": "",
       "description_allow_html": false,
       "layout": "IPY_MODEL_b76d139bec9742d18415b86ac8b27d25",
       "placeholder": "​",
       "style": "IPY_MODEL_cf7aac64873a43389a78bca228ebdaed",
       "tabbable": null,
       "tooltip": null,
       "value": "Map: 100%"
      }
     },
     "b0bb3bc81b214c4898a05ca854312156": {
      "model_module": "@jupyter-widgets/controls",
      "model_module_version": "2.0.0",
      "model_name": "HTMLModel",
      "state": {
       "_dom_classes": [],
       "_model_module": "@jupyter-widgets/controls",
       "_model_module_version": "2.0.0",
       "_model_name": "HTMLModel",
       "_view_count": null,
       "_view_module": "@jupyter-widgets/controls",
       "_view_module_version": "2.0.0",
       "_view_name": "HTMLView",
       "description": "",
       "description_allow_html": false,
       "layout": "IPY_MODEL_a0bc1a94b901489e82ac9c1e28923dcc",
       "placeholder": "​",
       "style": "IPY_MODEL_5598b47ca6b54a3795f0f10374a60366",
       "tabbable": null,
       "tooltip": null,
       "value": "Map: 100%"
      }
     },
     "b76d139bec9742d18415b86ac8b27d25": {
      "model_module": "@jupyter-widgets/base",
      "model_module_version": "2.0.0",
      "model_name": "LayoutModel",
      "state": {
       "_model_module": "@jupyter-widgets/base",
       "_model_module_version": "2.0.0",
       "_model_name": "LayoutModel",
       "_view_count": null,
       "_view_module": "@jupyter-widgets/base",
       "_view_module_version": "2.0.0",
       "_view_name": "LayoutView",
       "align_content": null,
       "align_items": null,
       "align_self": null,
       "border_bottom": null,
       "border_left": null,
       "border_right": null,
       "border_top": null,
       "bottom": null,
       "display": null,
       "flex": null,
       "flex_flow": null,
       "grid_area": null,
       "grid_auto_columns": null,
       "grid_auto_flow": null,
       "grid_auto_rows": null,
       "grid_column": null,
       "grid_gap": null,
       "grid_row": null,
       "grid_template_areas": null,
       "grid_template_columns": null,
       "grid_template_rows": null,
       "height": null,
       "justify_content": null,
       "justify_items": null,
       "left": null,
       "margin": null,
       "max_height": null,
       "max_width": null,
       "min_height": null,
       "min_width": null,
       "object_fit": null,
       "object_position": null,
       "order": null,
       "overflow": null,
       "padding": null,
       "right": null,
       "top": null,
       "visibility": null,
       "width": null
      }
     },
     "be51a72277a44a5caeb8d4f34e84bf0b": {
      "model_module": "@jupyter-widgets/base",
      "model_module_version": "2.0.0",
      "model_name": "LayoutModel",
      "state": {
       "_model_module": "@jupyter-widgets/base",
       "_model_module_version": "2.0.0",
       "_model_name": "LayoutModel",
       "_view_count": null,
       "_view_module": "@jupyter-widgets/base",
       "_view_module_version": "2.0.0",
       "_view_name": "LayoutView",
       "align_content": null,
       "align_items": null,
       "align_self": null,
       "border_bottom": null,
       "border_left": null,
       "border_right": null,
       "border_top": null,
       "bottom": null,
       "display": null,
       "flex": null,
       "flex_flow": null,
       "grid_area": null,
       "grid_auto_columns": null,
       "grid_auto_flow": null,
       "grid_auto_rows": null,
       "grid_column": null,
       "grid_gap": null,
       "grid_row": null,
       "grid_template_areas": null,
       "grid_template_columns": null,
       "grid_template_rows": null,
       "height": null,
       "justify_content": null,
       "justify_items": null,
       "left": null,
       "margin": null,
       "max_height": null,
       "max_width": null,
       "min_height": null,
       "min_width": null,
       "object_fit": null,
       "object_position": null,
       "order": null,
       "overflow": null,
       "padding": null,
       "right": null,
       "top": null,
       "visibility": null,
       "width": null
      }
     },
     "bef2c26a60f140328aa7fd906cb78658": {
      "model_module": "@jupyter-widgets/base",
      "model_module_version": "2.0.0",
      "model_name": "LayoutModel",
      "state": {
       "_model_module": "@jupyter-widgets/base",
       "_model_module_version": "2.0.0",
       "_model_name": "LayoutModel",
       "_view_count": null,
       "_view_module": "@jupyter-widgets/base",
       "_view_module_version": "2.0.0",
       "_view_name": "LayoutView",
       "align_content": null,
       "align_items": null,
       "align_self": null,
       "border_bottom": null,
       "border_left": null,
       "border_right": null,
       "border_top": null,
       "bottom": null,
       "display": null,
       "flex": null,
       "flex_flow": null,
       "grid_area": null,
       "grid_auto_columns": null,
       "grid_auto_flow": null,
       "grid_auto_rows": null,
       "grid_column": null,
       "grid_gap": null,
       "grid_row": null,
       "grid_template_areas": null,
       "grid_template_columns": null,
       "grid_template_rows": null,
       "height": null,
       "justify_content": null,
       "justify_items": null,
       "left": null,
       "margin": null,
       "max_height": null,
       "max_width": null,
       "min_height": null,
       "min_width": null,
       "object_fit": null,
       "object_position": null,
       "order": null,
       "overflow": null,
       "padding": null,
       "right": null,
       "top": null,
       "visibility": null,
       "width": null
      }
     },
     "bf8841d409e54e5b9208ee2bf0b59ecd": {
      "model_module": "@jupyter-widgets/base",
      "model_module_version": "2.0.0",
      "model_name": "LayoutModel",
      "state": {
       "_model_module": "@jupyter-widgets/base",
       "_model_module_version": "2.0.0",
       "_model_name": "LayoutModel",
       "_view_count": null,
       "_view_module": "@jupyter-widgets/base",
       "_view_module_version": "2.0.0",
       "_view_name": "LayoutView",
       "align_content": null,
       "align_items": null,
       "align_self": null,
       "border_bottom": null,
       "border_left": null,
       "border_right": null,
       "border_top": null,
       "bottom": null,
       "display": null,
       "flex": null,
       "flex_flow": null,
       "grid_area": null,
       "grid_auto_columns": null,
       "grid_auto_flow": null,
       "grid_auto_rows": null,
       "grid_column": null,
       "grid_gap": null,
       "grid_row": null,
       "grid_template_areas": null,
       "grid_template_columns": null,
       "grid_template_rows": null,
       "height": null,
       "justify_content": null,
       "justify_items": null,
       "left": null,
       "margin": null,
       "max_height": null,
       "max_width": null,
       "min_height": null,
       "min_width": null,
       "object_fit": null,
       "object_position": null,
       "order": null,
       "overflow": null,
       "padding": null,
       "right": null,
       "top": null,
       "visibility": null,
       "width": null
      }
     },
     "c075df5432604419a951e7b138fdc8c2": {
      "model_module": "@jupyter-widgets/controls",
      "model_module_version": "2.0.0",
      "model_name": "HTMLStyleModel",
      "state": {
       "_model_module": "@jupyter-widgets/controls",
       "_model_module_version": "2.0.0",
       "_model_name": "HTMLStyleModel",
       "_view_count": null,
       "_view_module": "@jupyter-widgets/base",
       "_view_module_version": "2.0.0",
       "_view_name": "StyleView",
       "background": null,
       "description_width": "",
       "font_size": null,
       "text_color": null
      }
     },
     "c16a464db84745469985952778c04fda": {
      "model_module": "@jupyter-widgets/controls",
      "model_module_version": "2.0.0",
      "model_name": "HBoxModel",
      "state": {
       "_dom_classes": [],
       "_model_module": "@jupyter-widgets/controls",
       "_model_module_version": "2.0.0",
       "_model_name": "HBoxModel",
       "_view_count": null,
       "_view_module": "@jupyter-widgets/controls",
       "_view_module_version": "2.0.0",
       "_view_name": "HBoxView",
       "box_style": "",
       "children": [
        "IPY_MODEL_a7df9c1954e84bfa9d6b9b039b579a30",
        "IPY_MODEL_2b14b6bb61864c669d3cca76a1e632f0",
        "IPY_MODEL_fd4f02617780402fbd337643da5d668e"
       ],
       "layout": "IPY_MODEL_fc621b37733a475582d1f2cb6abf7747",
       "tabbable": null,
       "tooltip": null
      }
     },
     "c65d9f0549744ea5a3d9550f21d72e11": {
      "model_module": "@jupyter-widgets/controls",
      "model_module_version": "2.0.0",
      "model_name": "HTMLModel",
      "state": {
       "_dom_classes": [],
       "_model_module": "@jupyter-widgets/controls",
       "_model_module_version": "2.0.0",
       "_model_name": "HTMLModel",
       "_view_count": null,
       "_view_module": "@jupyter-widgets/controls",
       "_view_module_version": "2.0.0",
       "_view_name": "HTMLView",
       "description": "",
       "description_allow_html": false,
       "layout": "IPY_MODEL_364b978a85b046568946275d36edd82b",
       "placeholder": "​",
       "style": "IPY_MODEL_2ad5dedf85864e0995f982063ab35ca6",
       "tabbable": null,
       "tooltip": null,
       "value": "Map: 100%"
      }
     },
     "c97a11fb5be040bea55f949f534c519b": {
      "model_module": "@jupyter-widgets/controls",
      "model_module_version": "2.0.0",
      "model_name": "FloatProgressModel",
      "state": {
       "_dom_classes": [],
       "_model_module": "@jupyter-widgets/controls",
       "_model_module_version": "2.0.0",
       "_model_name": "FloatProgressModel",
       "_view_count": null,
       "_view_module": "@jupyter-widgets/controls",
       "_view_module_version": "2.0.0",
       "_view_name": "ProgressView",
       "bar_style": "success",
       "description": "",
       "description_allow_html": false,
       "layout": "IPY_MODEL_bef2c26a60f140328aa7fd906cb78658",
       "max": 7638.0,
       "min": 0.0,
       "orientation": "horizontal",
       "style": "IPY_MODEL_f5321d0566484e0899f99e4e67543146",
       "tabbable": null,
       "tooltip": null,
       "value": 7638.0
      }
     },
     "cbed7a0766c04e16aaf0cc4d2389fbf5": {
      "model_module": "@jupyter-widgets/controls",
      "model_module_version": "2.0.0",
      "model_name": "ProgressStyleModel",
      "state": {
       "_model_module": "@jupyter-widgets/controls",
       "_model_module_version": "2.0.0",
       "_model_name": "ProgressStyleModel",
       "_view_count": null,
       "_view_module": "@jupyter-widgets/base",
       "_view_module_version": "2.0.0",
       "_view_name": "StyleView",
       "bar_color": null,
       "description_width": ""
      }
     },
     "cedbfee8e1fb43d9b1f4af14fe465b96": {
      "model_module": "@jupyter-widgets/base",
      "model_module_version": "2.0.0",
      "model_name": "LayoutModel",
      "state": {
       "_model_module": "@jupyter-widgets/base",
       "_model_module_version": "2.0.0",
       "_model_name": "LayoutModel",
       "_view_count": null,
       "_view_module": "@jupyter-widgets/base",
       "_view_module_version": "2.0.0",
       "_view_name": "LayoutView",
       "align_content": null,
       "align_items": null,
       "align_self": null,
       "border_bottom": null,
       "border_left": null,
       "border_right": null,
       "border_top": null,
       "bottom": null,
       "display": null,
       "flex": null,
       "flex_flow": null,
       "grid_area": null,
       "grid_auto_columns": null,
       "grid_auto_flow": null,
       "grid_auto_rows": null,
       "grid_column": null,
       "grid_gap": null,
       "grid_row": null,
       "grid_template_areas": null,
       "grid_template_columns": null,
       "grid_template_rows": null,
       "height": null,
       "justify_content": null,
       "justify_items": null,
       "left": null,
       "margin": null,
       "max_height": null,
       "max_width": null,
       "min_height": null,
       "min_width": null,
       "object_fit": null,
       "object_position": null,
       "order": null,
       "overflow": null,
       "padding": null,
       "right": null,
       "top": null,
       "visibility": null,
       "width": null
      }
     },
     "cf7aac64873a43389a78bca228ebdaed": {
      "model_module": "@jupyter-widgets/controls",
      "model_module_version": "2.0.0",
      "model_name": "HTMLStyleModel",
      "state": {
       "_model_module": "@jupyter-widgets/controls",
       "_model_module_version": "2.0.0",
       "_model_name": "HTMLStyleModel",
       "_view_count": null,
       "_view_module": "@jupyter-widgets/base",
       "_view_module_version": "2.0.0",
       "_view_name": "StyleView",
       "background": null,
       "description_width": "",
       "font_size": null,
       "text_color": null
      }
     },
     "d0227ea654174c2e90a40a4174bcb40b": {
      "model_module": "@jupyter-widgets/controls",
      "model_module_version": "2.0.0",
      "model_name": "HTMLModel",
      "state": {
       "_dom_classes": [],
       "_model_module": "@jupyter-widgets/controls",
       "_model_module_version": "2.0.0",
       "_model_name": "HTMLModel",
       "_view_count": null,
       "_view_module": "@jupyter-widgets/controls",
       "_view_module_version": "2.0.0",
       "_view_name": "HTMLView",
       "description": "",
       "description_allow_html": false,
       "layout": "IPY_MODEL_bf8841d409e54e5b9208ee2bf0b59ecd",
       "placeholder": "​",
       "style": "IPY_MODEL_6dd4e6f2ecf94d7b9a37dfef4b1d6f48",
       "tabbable": null,
       "tooltip": null,
       "value": "Map: 100%"
      }
     },
     "d09dbf3b1b5949b2ab48f559a93b20ea": {
      "model_module": "@jupyter-widgets/controls",
      "model_module_version": "2.0.0",
      "model_name": "FloatProgressModel",
      "state": {
       "_dom_classes": [],
       "_model_module": "@jupyter-widgets/controls",
       "_model_module_version": "2.0.0",
       "_model_name": "FloatProgressModel",
       "_view_count": null,
       "_view_module": "@jupyter-widgets/controls",
       "_view_module_version": "2.0.0",
       "_view_name": "ProgressView",
       "bar_style": "success",
       "description": "",
       "description_allow_html": false,
       "layout": "IPY_MODEL_d1c2b8fcd7ba4c698430c0ab10309b83",
       "max": 10.0,
       "min": 0.0,
       "orientation": "horizontal",
       "style": "IPY_MODEL_193f39213aa74e1facf840bef7088c69",
       "tabbable": null,
       "tooltip": null,
       "value": 10.0
      }
     },
     "d171de5079804bceb5ccb574f582ab59": {
      "model_module": "@jupyter-widgets/base",
      "model_module_version": "2.0.0",
      "model_name": "LayoutModel",
      "state": {
       "_model_module": "@jupyter-widgets/base",
       "_model_module_version": "2.0.0",
       "_model_name": "LayoutModel",
       "_view_count": null,
       "_view_module": "@jupyter-widgets/base",
       "_view_module_version": "2.0.0",
       "_view_name": "LayoutView",
       "align_content": null,
       "align_items": null,
       "align_self": null,
       "border_bottom": null,
       "border_left": null,
       "border_right": null,
       "border_top": null,
       "bottom": null,
       "display": null,
       "flex": null,
       "flex_flow": null,
       "grid_area": null,
       "grid_auto_columns": null,
       "grid_auto_flow": null,
       "grid_auto_rows": null,
       "grid_column": null,
       "grid_gap": null,
       "grid_row": null,
       "grid_template_areas": null,
       "grid_template_columns": null,
       "grid_template_rows": null,
       "height": null,
       "justify_content": null,
       "justify_items": null,
       "left": null,
       "margin": null,
       "max_height": null,
       "max_width": null,
       "min_height": null,
       "min_width": null,
       "object_fit": null,
       "object_position": null,
       "order": null,
       "overflow": null,
       "padding": null,
       "right": null,
       "top": null,
       "visibility": null,
       "width": null
      }
     },
     "d1c2b8fcd7ba4c698430c0ab10309b83": {
      "model_module": "@jupyter-widgets/base",
      "model_module_version": "2.0.0",
      "model_name": "LayoutModel",
      "state": {
       "_model_module": "@jupyter-widgets/base",
       "_model_module_version": "2.0.0",
       "_model_name": "LayoutModel",
       "_view_count": null,
       "_view_module": "@jupyter-widgets/base",
       "_view_module_version": "2.0.0",
       "_view_name": "LayoutView",
       "align_content": null,
       "align_items": null,
       "align_self": null,
       "border_bottom": null,
       "border_left": null,
       "border_right": null,
       "border_top": null,
       "bottom": null,
       "display": null,
       "flex": null,
       "flex_flow": null,
       "grid_area": null,
       "grid_auto_columns": null,
       "grid_auto_flow": null,
       "grid_auto_rows": null,
       "grid_column": null,
       "grid_gap": null,
       "grid_row": null,
       "grid_template_areas": null,
       "grid_template_columns": null,
       "grid_template_rows": null,
       "height": null,
       "justify_content": null,
       "justify_items": null,
       "left": null,
       "margin": null,
       "max_height": null,
       "max_width": null,
       "min_height": null,
       "min_width": null,
       "object_fit": null,
       "object_position": null,
       "order": null,
       "overflow": null,
       "padding": null,
       "right": null,
       "top": null,
       "visibility": null,
       "width": null
      }
     },
     "d2bd2a04b87d4fd1801cb2f8fd1db179": {
      "model_module": "@jupyter-widgets/base",
      "model_module_version": "2.0.0",
      "model_name": "LayoutModel",
      "state": {
       "_model_module": "@jupyter-widgets/base",
       "_model_module_version": "2.0.0",
       "_model_name": "LayoutModel",
       "_view_count": null,
       "_view_module": "@jupyter-widgets/base",
       "_view_module_version": "2.0.0",
       "_view_name": "LayoutView",
       "align_content": null,
       "align_items": null,
       "align_self": null,
       "border_bottom": null,
       "border_left": null,
       "border_right": null,
       "border_top": null,
       "bottom": null,
       "display": null,
       "flex": null,
       "flex_flow": null,
       "grid_area": null,
       "grid_auto_columns": null,
       "grid_auto_flow": null,
       "grid_auto_rows": null,
       "grid_column": null,
       "grid_gap": null,
       "grid_row": null,
       "grid_template_areas": null,
       "grid_template_columns": null,
       "grid_template_rows": null,
       "height": null,
       "justify_content": null,
       "justify_items": null,
       "left": null,
       "margin": null,
       "max_height": null,
       "max_width": null,
       "min_height": null,
       "min_width": null,
       "object_fit": null,
       "object_position": null,
       "order": null,
       "overflow": null,
       "padding": null,
       "right": null,
       "top": null,
       "visibility": null,
       "width": null
      }
     },
     "d57cb5f81c2647aa8350a194c99cffbe": {
      "model_module": "@jupyter-widgets/base",
      "model_module_version": "2.0.0",
      "model_name": "LayoutModel",
      "state": {
       "_model_module": "@jupyter-widgets/base",
       "_model_module_version": "2.0.0",
       "_model_name": "LayoutModel",
       "_view_count": null,
       "_view_module": "@jupyter-widgets/base",
       "_view_module_version": "2.0.0",
       "_view_name": "LayoutView",
       "align_content": null,
       "align_items": null,
       "align_self": null,
       "border_bottom": null,
       "border_left": null,
       "border_right": null,
       "border_top": null,
       "bottom": null,
       "display": null,
       "flex": null,
       "flex_flow": null,
       "grid_area": null,
       "grid_auto_columns": null,
       "grid_auto_flow": null,
       "grid_auto_rows": null,
       "grid_column": null,
       "grid_gap": null,
       "grid_row": null,
       "grid_template_areas": null,
       "grid_template_columns": null,
       "grid_template_rows": null,
       "height": null,
       "justify_content": null,
       "justify_items": null,
       "left": null,
       "margin": null,
       "max_height": null,
       "max_width": null,
       "min_height": null,
       "min_width": null,
       "object_fit": null,
       "object_position": null,
       "order": null,
       "overflow": null,
       "padding": null,
       "right": null,
       "top": null,
       "visibility": null,
       "width": null
      }
     },
     "d6cbd3ba147347ff8d7d2d835e7feb38": {
      "model_module": "@jupyter-widgets/controls",
      "model_module_version": "2.0.0",
      "model_name": "HTMLStyleModel",
      "state": {
       "_model_module": "@jupyter-widgets/controls",
       "_model_module_version": "2.0.0",
       "_model_name": "HTMLStyleModel",
       "_view_count": null,
       "_view_module": "@jupyter-widgets/base",
       "_view_module_version": "2.0.0",
       "_view_name": "StyleView",
       "background": null,
       "description_width": "",
       "font_size": null,
       "text_color": null
      }
     },
     "d765b79182674fefaed5836a94c59c92": {
      "model_module": "@jupyter-widgets/controls",
      "model_module_version": "2.0.0",
      "model_name": "HTMLModel",
      "state": {
       "_dom_classes": [],
       "_model_module": "@jupyter-widgets/controls",
       "_model_module_version": "2.0.0",
       "_model_name": "HTMLModel",
       "_view_count": null,
       "_view_module": "@jupyter-widgets/controls",
       "_view_module_version": "2.0.0",
       "_view_name": "HTMLView",
       "description": "",
       "description_allow_html": false,
       "layout": "IPY_MODEL_674157604e0342b5ade9b96053fabdaa",
       "placeholder": "​",
       "style": "IPY_MODEL_8d21e12bb0774c8b8b7f66e9f923590d",
       "tabbable": null,
       "tooltip": null,
       "value": " 10/10 [00:00&lt;00:00, 713.62 examples/s]"
      }
     },
     "d8f9a742ed914281861266c13b0ee5a7": {
      "model_module": "@jupyter-widgets/base",
      "model_module_version": "2.0.0",
      "model_name": "LayoutModel",
      "state": {
       "_model_module": "@jupyter-widgets/base",
       "_model_module_version": "2.0.0",
       "_model_name": "LayoutModel",
       "_view_count": null,
       "_view_module": "@jupyter-widgets/base",
       "_view_module_version": "2.0.0",
       "_view_name": "LayoutView",
       "align_content": null,
       "align_items": null,
       "align_self": null,
       "border_bottom": null,
       "border_left": null,
       "border_right": null,
       "border_top": null,
       "bottom": null,
       "display": null,
       "flex": null,
       "flex_flow": null,
       "grid_area": null,
       "grid_auto_columns": null,
       "grid_auto_flow": null,
       "grid_auto_rows": null,
       "grid_column": null,
       "grid_gap": null,
       "grid_row": null,
       "grid_template_areas": null,
       "grid_template_columns": null,
       "grid_template_rows": null,
       "height": null,
       "justify_content": null,
       "justify_items": null,
       "left": null,
       "margin": null,
       "max_height": null,
       "max_width": null,
       "min_height": null,
       "min_width": null,
       "object_fit": null,
       "object_position": null,
       "order": null,
       "overflow": null,
       "padding": null,
       "right": null,
       "top": null,
       "visibility": null,
       "width": null
      }
     },
     "deea1657057e41c798deaaece0633238": {
      "model_module": "@jupyter-widgets/controls",
      "model_module_version": "2.0.0",
      "model_name": "HTMLModel",
      "state": {
       "_dom_classes": [],
       "_model_module": "@jupyter-widgets/controls",
       "_model_module_version": "2.0.0",
       "_model_name": "HTMLModel",
       "_view_count": null,
       "_view_module": "@jupyter-widgets/controls",
       "_view_module_version": "2.0.0",
       "_view_name": "HTMLView",
       "description": "",
       "description_allow_html": false,
       "layout": "IPY_MODEL_d8f9a742ed914281861266c13b0ee5a7",
       "placeholder": "​",
       "style": "IPY_MODEL_590399b337cd42b79764f80dbb258a15",
       "tabbable": null,
       "tooltip": null,
       "value": "Map: 100%"
      }
     },
     "dfdb6e7e55bd43008349daffd56e6b95": {
      "model_module": "@jupyter-widgets/controls",
      "model_module_version": "2.0.0",
      "model_name": "FloatProgressModel",
      "state": {
       "_dom_classes": [],
       "_model_module": "@jupyter-widgets/controls",
       "_model_module_version": "2.0.0",
       "_model_name": "FloatProgressModel",
       "_view_count": null,
       "_view_module": "@jupyter-widgets/controls",
       "_view_module_version": "2.0.0",
       "_view_name": "ProgressView",
       "bar_style": "success",
       "description": "",
       "description_allow_html": false,
       "layout": "IPY_MODEL_a4eaaae9e1a541cab9e89d6375b2302c",
       "max": 10.0,
       "min": 0.0,
       "orientation": "horizontal",
       "style": "IPY_MODEL_911bf84a034a4a8e8246269abf39aa0c",
       "tabbable": null,
       "tooltip": null,
       "value": 10.0
      }
     },
     "e34be02eed304d3da1a07a55acb09a5d": {
      "model_module": "@jupyter-widgets/controls",
      "model_module_version": "2.0.0",
      "model_name": "ProgressStyleModel",
      "state": {
       "_model_module": "@jupyter-widgets/controls",
       "_model_module_version": "2.0.0",
       "_model_name": "ProgressStyleModel",
       "_view_count": null,
       "_view_module": "@jupyter-widgets/base",
       "_view_module_version": "2.0.0",
       "_view_name": "StyleView",
       "bar_color": null,
       "description_width": ""
      }
     },
     "e36ce17702d848d9870a7d5a93530e5a": {
      "model_module": "@jupyter-widgets/controls",
      "model_module_version": "2.0.0",
      "model_name": "FloatProgressModel",
      "state": {
       "_dom_classes": [],
       "_model_module": "@jupyter-widgets/controls",
       "_model_module_version": "2.0.0",
       "_model_name": "FloatProgressModel",
       "_view_count": null,
       "_view_module": "@jupyter-widgets/controls",
       "_view_module_version": "2.0.0",
       "_view_name": "ProgressView",
       "bar_style": "success",
       "description": "",
       "description_allow_html": false,
       "layout": "IPY_MODEL_0e1d593bf8724a1cac18efcabf237158",
       "max": 2547.0,
       "min": 0.0,
       "orientation": "horizontal",
       "style": "IPY_MODEL_cbed7a0766c04e16aaf0cc4d2389fbf5",
       "tabbable": null,
       "tooltip": null,
       "value": 2547.0
      }
     },
     "f5321d0566484e0899f99e4e67543146": {
      "model_module": "@jupyter-widgets/controls",
      "model_module_version": "2.0.0",
      "model_name": "ProgressStyleModel",
      "state": {
       "_model_module": "@jupyter-widgets/controls",
       "_model_module_version": "2.0.0",
       "_model_name": "ProgressStyleModel",
       "_view_count": null,
       "_view_module": "@jupyter-widgets/base",
       "_view_module_version": "2.0.0",
       "_view_name": "StyleView",
       "bar_color": null,
       "description_width": ""
      }
     },
     "fac56bb460ff4666bc38cd43288ca432": {
      "model_module": "@jupyter-widgets/controls",
      "model_module_version": "2.0.0",
      "model_name": "HTMLModel",
      "state": {
       "_dom_classes": [],
       "_model_module": "@jupyter-widgets/controls",
       "_model_module_version": "2.0.0",
       "_model_name": "HTMLModel",
       "_view_count": null,
       "_view_module": "@jupyter-widgets/controls",
       "_view_module_version": "2.0.0",
       "_view_name": "HTMLView",
       "description": "",
       "description_allow_html": false,
       "layout": "IPY_MODEL_be51a72277a44a5caeb8d4f34e84bf0b",
       "placeholder": "​",
       "style": "IPY_MODEL_945ffc8b3d2a4a0aa078df526ddc3dcb",
       "tabbable": null,
       "tooltip": null,
       "value": " 2547/2547 [00:00&lt;00:00, 11102.99 examples/s]"
      }
     },
     "fbf2a650617b4d1b893c88fe7e9391dc": {
      "model_module": "@jupyter-widgets/controls",
      "model_module_version": "2.0.0",
      "model_name": "ProgressStyleModel",
      "state": {
       "_model_module": "@jupyter-widgets/controls",
       "_model_module_version": "2.0.0",
       "_model_name": "ProgressStyleModel",
       "_view_count": null,
       "_view_module": "@jupyter-widgets/base",
       "_view_module_version": "2.0.0",
       "_view_name": "StyleView",
       "bar_color": null,
       "description_width": ""
      }
     },
     "fc621b37733a475582d1f2cb6abf7747": {
      "model_module": "@jupyter-widgets/base",
      "model_module_version": "2.0.0",
      "model_name": "LayoutModel",
      "state": {
       "_model_module": "@jupyter-widgets/base",
       "_model_module_version": "2.0.0",
       "_model_name": "LayoutModel",
       "_view_count": null,
       "_view_module": "@jupyter-widgets/base",
       "_view_module_version": "2.0.0",
       "_view_name": "LayoutView",
       "align_content": null,
       "align_items": null,
       "align_self": null,
       "border_bottom": null,
       "border_left": null,
       "border_right": null,
       "border_top": null,
       "bottom": null,
       "display": null,
       "flex": null,
       "flex_flow": null,
       "grid_area": null,
       "grid_auto_columns": null,
       "grid_auto_flow": null,
       "grid_auto_rows": null,
       "grid_column": null,
       "grid_gap": null,
       "grid_row": null,
       "grid_template_areas": null,
       "grid_template_columns": null,
       "grid_template_rows": null,
       "height": null,
       "justify_content": null,
       "justify_items": null,
       "left": null,
       "margin": null,
       "max_height": null,
       "max_width": null,
       "min_height": null,
       "min_width": null,
       "object_fit": null,
       "object_position": null,
       "order": null,
       "overflow": null,
       "padding": null,
       "right": null,
       "top": null,
       "visibility": null,
       "width": null
      }
     },
     "fd4f02617780402fbd337643da5d668e": {
      "model_module": "@jupyter-widgets/controls",
      "model_module_version": "2.0.0",
      "model_name": "HTMLModel",
      "state": {
       "_dom_classes": [],
       "_model_module": "@jupyter-widgets/controls",
       "_model_module_version": "2.0.0",
       "_model_name": "HTMLModel",
       "_view_count": null,
       "_view_module": "@jupyter-widgets/controls",
       "_view_module_version": "2.0.0",
       "_view_name": "HTMLView",
       "description": "",
       "description_allow_html": false,
       "layout": "IPY_MODEL_d57cb5f81c2647aa8350a194c99cffbe",
       "placeholder": "​",
       "style": "IPY_MODEL_2889d710df6a442f873c3a5c631a2ca2",
       "tabbable": null,
       "tooltip": null,
       "value": " 7638/7638 [00:02&lt;00:00, 2919.50 examples/s]"
      }
     },
     "ff0861385a1e44e58dd6da74692ded17": {
      "model_module": "@jupyter-widgets/controls",
      "model_module_version": "2.0.0",
      "model_name": "HTMLModel",
      "state": {
       "_dom_classes": [],
       "_model_module": "@jupyter-widgets/controls",
       "_model_module_version": "2.0.0",
       "_model_name": "HTMLModel",
       "_view_count": null,
       "_view_module": "@jupyter-widgets/controls",
       "_view_module_version": "2.0.0",
       "_view_name": "HTMLView",
       "description": "",
       "description_allow_html": false,
       "layout": "IPY_MODEL_850d954dc4474b4dadd766df6dcc8df6",
       "placeholder": "​",
       "style": "IPY_MODEL_2f60b05a513143109ffa27d516488320",
       "tabbable": null,
       "tooltip": null,
       "value": " 10/10 [00:00&lt;00:00, 646.64 examples/s]"
      }
     },
     "ffb01502471244cbb22d53eec2069888": {
      "model_module": "@jupyter-widgets/base",
      "model_module_version": "2.0.0",
      "model_name": "LayoutModel",
      "state": {
       "_model_module": "@jupyter-widgets/base",
       "_model_module_version": "2.0.0",
       "_model_name": "LayoutModel",
       "_view_count": null,
       "_view_module": "@jupyter-widgets/base",
       "_view_module_version": "2.0.0",
       "_view_name": "LayoutView",
       "align_content": null,
       "align_items": null,
       "align_self": null,
       "border_bottom": null,
       "border_left": null,
       "border_right": null,
       "border_top": null,
       "bottom": null,
       "display": null,
       "flex": null,
       "flex_flow": null,
       "grid_area": null,
       "grid_auto_columns": null,
       "grid_auto_flow": null,
       "grid_auto_rows": null,
       "grid_column": null,
       "grid_gap": null,
       "grid_row": null,
       "grid_template_areas": null,
       "grid_template_columns": null,
       "grid_template_rows": null,
       "height": null,
       "justify_content": null,
       "justify_items": null,
       "left": null,
       "margin": null,
       "max_height": null,
       "max_width": null,
       "min_height": null,
       "min_width": null,
       "object_fit": null,
       "object_position": null,
       "order": null,
       "overflow": null,
       "padding": null,
       "right": null,
       "top": null,
       "visibility": null,
       "width": null
      }
     }
    },
    "version_major": 2,
    "version_minor": 0
   }
  }
 },
 "nbformat": 4,
 "nbformat_minor": 5
}
